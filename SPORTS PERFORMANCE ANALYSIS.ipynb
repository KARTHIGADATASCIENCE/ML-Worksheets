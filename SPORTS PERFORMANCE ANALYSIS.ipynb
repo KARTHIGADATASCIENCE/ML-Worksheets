{
 "cells": [
  {
   "cell_type": "markdown",
   "id": "8c3f9abf",
   "metadata": {},
   "source": [
    "#  Sports Performance Analysis using KNN neighbors"
   ]
  },
  {
   "cell_type": "markdown",
   "id": "3d0fed49",
   "metadata": {},
   "source": [
    "## import the needed libraries"
   ]
  },
  {
   "cell_type": "code",
   "execution_count": 1,
   "id": "ca9c2cf9",
   "metadata": {},
   "outputs": [],
   "source": [
    "import pandas as pd"
   ]
  },
  {
   "cell_type": "code",
   "execution_count": 2,
   "id": "b8ca8e57",
   "metadata": {},
   "outputs": [],
   "source": [
    "import numpy as np"
   ]
  },
  {
   "cell_type": "code",
   "execution_count": 3,
   "id": "7d419876",
   "metadata": {},
   "outputs": [],
   "source": [
    "from sklearn.model_selection import train_test_split"
   ]
  },
  {
   "cell_type": "code",
   "execution_count": 4,
   "id": "20ca5be0",
   "metadata": {},
   "outputs": [],
   "source": [
    "from sklearn.preprocessing import StandardScaler"
   ]
  },
  {
   "cell_type": "code",
   "execution_count": 5,
   "id": "1ea6378d",
   "metadata": {},
   "outputs": [],
   "source": [
    "from sklearn.neighbors import KNeighborsClassifier"
   ]
  },
  {
   "cell_type": "code",
   "execution_count": 6,
   "id": "d0629822",
   "metadata": {},
   "outputs": [],
   "source": [
    "from sklearn.metrics import accuracy_score,confusion_matrix"
   ]
  },
  {
   "cell_type": "code",
   "execution_count": 7,
   "id": "5f3650ae",
   "metadata": {},
   "outputs": [],
   "source": [
    "import matplotlib.pyplot as plt"
   ]
  },
  {
   "cell_type": "code",
   "execution_count": 8,
   "id": "d3e26734",
   "metadata": {},
   "outputs": [],
   "source": [
    "import seaborn as sns"
   ]
  },
  {
   "cell_type": "markdown",
   "id": "13f410af",
   "metadata": {},
   "source": [
    "## read the dataset"
   ]
  },
  {
   "cell_type": "code",
   "execution_count": 9,
   "id": "172f272b",
   "metadata": {},
   "outputs": [],
   "source": [
    "data=pd.read_csv(\"player_stats.csv\")"
   ]
  },
  {
   "cell_type": "code",
   "execution_count": 11,
   "id": "f3d6c91d",
   "metadata": {},
   "outputs": [
    {
     "data": {
      "text/html": [
       "<div>\n",
       "<style scoped>\n",
       "    .dataframe tbody tr th:only-of-type {\n",
       "        vertical-align: middle;\n",
       "    }\n",
       "\n",
       "    .dataframe tbody tr th {\n",
       "        vertical-align: top;\n",
       "    }\n",
       "\n",
       "    .dataframe thead th {\n",
       "        text-align: right;\n",
       "    }\n",
       "</style>\n",
       "<table border=\"1\" class=\"dataframe\">\n",
       "  <thead>\n",
       "    <tr style=\"text-align: right;\">\n",
       "      <th></th>\n",
       "      <th>Accuracy</th>\n",
       "      <th>Speed</th>\n",
       "      <th>Stamina</th>\n",
       "      <th>Age</th>\n",
       "    </tr>\n",
       "  </thead>\n",
       "  <tbody>\n",
       "    <tr>\n",
       "      <th>0</th>\n",
       "      <td>68.727006</td>\n",
       "      <td>27.290072</td>\n",
       "      <td>96.330635</td>\n",
       "      <td>31</td>\n",
       "    </tr>\n",
       "    <tr>\n",
       "      <th>1</th>\n",
       "      <td>97.535715</td>\n",
       "      <td>27.712703</td>\n",
       "      <td>69.582476</td>\n",
       "      <td>23</td>\n",
       "    </tr>\n",
       "    <tr>\n",
       "      <th>2</th>\n",
       "      <td>86.599697</td>\n",
       "      <td>20.740447</td>\n",
       "      <td>65.795795</td>\n",
       "      <td>23</td>\n",
       "    </tr>\n",
       "    <tr>\n",
       "      <th>3</th>\n",
       "      <td>79.932924</td>\n",
       "      <td>23.584657</td>\n",
       "      <td>79.578110</td>\n",
       "      <td>30</td>\n",
       "    </tr>\n",
       "    <tr>\n",
       "      <th>4</th>\n",
       "      <td>57.800932</td>\n",
       "      <td>21.158691</td>\n",
       "      <td>99.426018</td>\n",
       "      <td>36</td>\n",
       "    </tr>\n",
       "  </tbody>\n",
       "</table>\n",
       "</div>"
      ],
      "text/plain": [
       "    Accuracy      Speed    Stamina  Age\n",
       "0  68.727006  27.290072  96.330635   31\n",
       "1  97.535715  27.712703  69.582476   23\n",
       "2  86.599697  20.740447  65.795795   23\n",
       "3  79.932924  23.584657  79.578110   30\n",
       "4  57.800932  21.158691  99.426018   36"
      ]
     },
     "execution_count": 11,
     "metadata": {},
     "output_type": "execute_result"
    }
   ],
   "source": [
    "data.head()"
   ]
  },
  {
   "cell_type": "markdown",
   "id": "7d9bd4f1",
   "metadata": {},
   "source": [
    "## missing values"
   ]
  },
  {
   "cell_type": "code",
   "execution_count": 12,
   "id": "6b824352",
   "metadata": {},
   "outputs": [
    {
     "name": "stdout",
     "output_type": "stream",
     "text": [
      "\n",
      " Missing values in dataset\n",
      "Accuracy    0\n",
      "Speed       0\n",
      "Stamina     0\n",
      "Age         0\n",
      "dtype: int64\n"
     ]
    }
   ],
   "source": [
    "print(\"\\n Missing values in dataset\")\n",
    "print(data.isnull().sum())"
   ]
  },
  {
   "cell_type": "markdown",
   "id": "6de2bcc9",
   "metadata": {},
   "source": [
    "#####  Above concluded that there is no null or missing values in the dataset"
   ]
  },
  {
   "cell_type": "code",
   "execution_count": 13,
   "id": "96201da4",
   "metadata": {},
   "outputs": [],
   "source": [
    "# drop missing values\n",
    "data.dropna(inplace=True)"
   ]
  },
  {
   "cell_type": "markdown",
   "id": "36ea9118",
   "metadata": {},
   "source": [
    "## z- score method"
   ]
  },
  {
   "cell_type": "code",
   "execution_count": 24,
   "id": "74e3d42c",
   "metadata": {},
   "outputs": [],
   "source": [
    "from scipy.stats import zscore"
   ]
  },
  {
   "cell_type": "code",
   "execution_count": 25,
   "id": "ce469505",
   "metadata": {},
   "outputs": [],
   "source": [
    "z_score=np.abs(zscore(data[['Accuracy','Speed','Stamina','Age']]))"
   ]
  },
  {
   "cell_type": "code",
   "execution_count": 27,
   "id": "c1ba5f71",
   "metadata": {},
   "outputs": [],
   "source": [
    "outliers=(z_score >3).all(axis=1)"
   ]
  },
  {
   "cell_type": "code",
   "execution_count": 28,
   "id": "4b33f462",
   "metadata": {},
   "outputs": [],
   "source": [
    "data['outlier']=outliers"
   ]
  },
  {
   "cell_type": "code",
   "execution_count": 29,
   "id": "f8182b44",
   "metadata": {},
   "outputs": [
    {
     "data": {
      "image/png": "[encoded data removed]",
      "text/plain": [
       "<Figure size 432x288 with 1 Axes>"
      ]
     },
     "metadata": {
      "needs_background": "light"
     },
     "output_type": "display_data"
    }
   ],
   "source": [
    "sns.boxplot(data=data[['Accuracy','Speed','Stamina','Age']])\n",
    "plt.title(\"Box plot for feature distribution\")\n",
    "plt.show()"
   ]
  },
  {
   "cell_type": "code",
   "execution_count": 30,
   "id": "73890335",
   "metadata": {},
   "outputs": [],
   "source": [
    "# split the features"
   ]
  },
  {
   "cell_type": "code",
   "execution_count": 31,
   "id": "b4105a4d",
   "metadata": {},
   "outputs": [],
   "source": [
    "x=data[['Accuracy','Speed','Stamina','Age']]\n",
    "y=data['outlier']"
   ]
  },
  {
   "cell_type": "code",
   "execution_count": 32,
   "id": "243f3709",
   "metadata": {},
   "outputs": [],
   "source": [
    "x_train,x_test,y_train,y_test=train_test_split(x,y,test_size=0.3,random_state=42)"
   ]
  },
  {
   "cell_type": "code",
   "execution_count": 33,
   "id": "a1f25136",
   "metadata": {},
   "outputs": [],
   "source": [
    "#scale features\n",
    "scaler=StandardScaler()\n",
    "x_train_scal=scaler.fit_transform(x_train)\n",
    "x_test_scal=scaler.fit_transform(x_test)\n"
   ]
  },
  {
   "cell_type": "markdown",
   "id": "ff116a64",
   "metadata": {},
   "source": [
    "### Build knn models"
   ]
  },
  {
   "cell_type": "code",
   "execution_count": 34,
   "id": "36ed2d88",
   "metadata": {},
   "outputs": [
    {
     "data": {
      "text/plain": [
       "KNeighborsClassifier(n_neighbors=3)"
      ]
     },
     "execution_count": 34,
     "metadata": {},
     "output_type": "execute_result"
    }
   ],
   "source": [
    "knn_outlier=KNeighborsClassifier(n_neighbors=3)\n",
    "knn_outlier.fit(x_train_scal,y_train)"
   ]
  },
  {
   "cell_type": "markdown",
   "id": "a4bcead7",
   "metadata": {},
   "source": [
    "## make prediction"
   ]
  },
  {
   "cell_type": "code",
   "execution_count": 35,
   "id": "bc818ff2",
   "metadata": {},
   "outputs": [],
   "source": [
    "y_pred_no_outlier=knn_outlier.predict(x_test_scal)"
   ]
  },
  {
   "cell_type": "code",
   "execution_count": 36,
   "id": "6eb14ea6",
   "metadata": {},
   "outputs": [],
   "source": [
    "#accuracy and confusion matrix"
   ]
  },
  {
   "cell_type": "code",
   "execution_count": 37,
   "id": "ceb5663d",
   "metadata": {},
   "outputs": [],
   "source": [
    "accuracy_no_out=accuracy_score(y_test,y_pred_no_outlier)\n",
    "cm_out=confusion_matrix(y_test,y_pred_no_outlier)"
   ]
  },
  {
   "cell_type": "markdown",
   "id": "f888f79a",
   "metadata": {},
   "source": [
    "###  KNN model with outliers"
   ]
  },
  {
   "cell_type": "code",
   "execution_count": 38,
   "id": "dead8f0e",
   "metadata": {},
   "outputs": [
    {
     "data": {
      "text/plain": [
       "KNeighborsClassifier(n_neighbors=3)"
      ]
     },
     "execution_count": 38,
     "metadata": {},
     "output_type": "execute_result"
    }
   ],
   "source": [
    "x_train_out=x_train_scal\n",
    "x_test_out=x_test_scal\n",
    "knn_with_out=KNeighborsClassifier(n_neighbors=3)\n",
    "knn_with_out.fit(x_train_out,y_train)"
   ]
  },
  {
   "cell_type": "code",
   "execution_count": 39,
   "id": "44c95ff7",
   "metadata": {},
   "outputs": [],
   "source": [
    "# make prediction with outlier\n",
    "y_pred_with_out=knn_with_out.predict(x_test_out)"
   ]
  },
  {
   "cell_type": "code",
   "execution_count": 40,
   "id": "9aa47237",
   "metadata": {},
   "outputs": [],
   "source": [
    "#accuracu and confusion matrix\n",
    "accuracy_with_out=accuracy_score(y_test, y_pred_with_out)\n",
    "cm_with_out=confusion_matrix(y_test,y_pred_with_out)\n"
   ]
  },
  {
   "cell_type": "code",
   "execution_count": 41,
   "id": "979d6ffc",
   "metadata": {},
   "outputs": [
    {
     "name": "stdout",
     "output_type": "stream",
     "text": [
      "\n",
      " accuracy without outliers: 1.0\n",
      "\n",
      " accuracy with outliers: 1.0\n"
     ]
    }
   ],
   "source": [
    "# compare result\n",
    "print(\"\\n accuracy without outliers:\",accuracy_no_out)\n",
    "print(\"\\n accuracy with outliers:\",accuracy_with_out)"
   ]
  },
  {
   "cell_type": "code",
   "execution_count": 45,
   "id": "c2658e79",
   "metadata": {},
   "outputs": [
    {
     "data": {
      "image/png": "[encoded data removed]",
      "text/plain": [
       "<Figure size 864x360 with 4 Axes>"
      ]
     },
     "metadata": {
      "needs_background": "light"
     },
     "output_type": "display_data"
    }
   ],
   "source": [
    "#plot confusion matrix\n",
    "\n",
    "fig,ax=plt.subplots(1,2,figsize=(12,5))\n",
    "sns.heatmap(cm_out,annot=True,fmt='d',cmap='Blues',xticklabels=['normal','outlier'],yticklabels=['normal','outlier'],ax=ax[0])\n",
    "ax[0].set_title(\"confusion matrix without outliers\")\n",
    "sns.heatmap(cm_with_out,annot=True,fmt='d',cmap='Blues',xticklabels=['normal','outlier'],yticklabels=['normal','outlier'],ax=ax[1])\n",
    "ax[1].set_title(\"confusion matrix with outliers\")\n",
    "plt.tight_layout()\n",
    "plt.show()"
   ]
  },
  {
   "cell_type": "code",
   "execution_count": null,
   "id": "75f8d881",
   "metadata": {},
   "outputs": [],
   "source": [
    "\n"
   ]
  },
  {
   "cell_type": "code",
   "execution_count": null,
   "id": "6c3f7559",
   "metadata": {},
   "outputs": [],
   "source": []
  }
 ],
 "metadata": {
  "kernelspec": {
   "display_name": "Python 3 (ipykernel)",
   "language": "python",
   "name": "python3"
  },
  "language_info": {
   "codemirror_mode": {
    "name": "ipython",
    "version": 3
   },
   "file_extension": ".py",
   "mimetype": "text/x-python",
   "name": "python",
   "nbconvert_exporter": "python",
   "pygments_lexer": "ipython3",
   "version": "3.9.12"
  }
 },
 "nbformat": 4,
 "nbformat_minor": 5
}
