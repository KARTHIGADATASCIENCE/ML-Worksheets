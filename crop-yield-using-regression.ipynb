{
 "cells": [
  {
   "cell_type": "code",
   "execution_count": 1,
   "id": "d1890236",
   "metadata": {
    "_cell_guid": "b1076dfc-b9ad-4769-8c92-a6c4dae69d19",
    "_uuid": "8f2839f25d086af736a60e9eeb907d3b93b6e0e5",
    "execution": {
     "iopub.execute_input": "2025-01-27T01:33:25.567833Z",
     "iopub.status.busy": "2025-01-27T01:33:25.567439Z",
     "iopub.status.idle": "2025-01-27T01:33:28.274189Z",
     "shell.execute_reply": "2025-01-27T01:33:28.272955Z"
    },
    "papermill": {
     "duration": 2.713507,
     "end_time": "2025-01-27T01:33:28.276085",
     "exception": false,
     "start_time": "2025-01-27T01:33:25.562578",
     "status": "completed"
    },
    "tags": []
   },
   "outputs": [],
   "source": [
    "import pandas as pd\n",
    "from sklearn.model_selection import train_test_split, cross_val_score\n",
    "from sklearn.linear_model import LinearRegression\n",
    "from sklearn.metrics import mean_squared_error\n"
   ]
  },
  {
   "cell_type": "code",
   "execution_count": 2,
   "id": "e51a5aa1",
   "metadata": {
    "execution": {
     "iopub.execute_input": "2025-01-27T01:33:28.283780Z",
     "iopub.status.busy": "2025-01-27T01:33:28.283222Z",
     "iopub.status.idle": "2025-01-27T01:33:28.324482Z",
     "shell.execute_reply": "2025-01-27T01:33:28.323229Z"
    },
    "papermill": {
     "duration": 0.046857,
     "end_time": "2025-01-27T01:33:28.326362",
     "exception": false,
     "start_time": "2025-01-27T01:33:28.279505",
     "status": "completed"
    },
    "tags": []
   },
   "outputs": [
    {
     "data": {
      "text/html": [
       "<div>\n",
       "<style scoped>\n",
       "    .dataframe tbody tr th:only-of-type {\n",
       "        vertical-align: middle;\n",
       "    }\n",
       "\n",
       "    .dataframe tbody tr th {\n",
       "        vertical-align: top;\n",
       "    }\n",
       "\n",
       "    .dataframe thead th {\n",
       "        text-align: right;\n",
       "    }\n",
       "</style>\n",
       "<table border=\"1\" class=\"dataframe\">\n",
       "  <thead>\n",
       "    <tr style=\"text-align: right;\">\n",
       "      <th></th>\n",
       "      <th>temperature</th>\n",
       "      <th>rainfall</th>\n",
       "      <th>soil_quality</th>\n",
       "      <th>crop_yield</th>\n",
       "    </tr>\n",
       "  </thead>\n",
       "  <tbody>\n",
       "    <tr>\n",
       "      <th>0</th>\n",
       "      <td>27.49</td>\n",
       "      <td>211.85</td>\n",
       "      <td>8.58</td>\n",
       "      <td>742.27</td>\n",
       "    </tr>\n",
       "    <tr>\n",
       "      <th>1</th>\n",
       "      <td>35.00</td>\n",
       "      <td>186.46</td>\n",
       "      <td>4.73</td>\n",
       "      <td>711.36</td>\n",
       "    </tr>\n",
       "    <tr>\n",
       "      <th>2</th>\n",
       "      <td>30.88</td>\n",
       "      <td>229.25</td>\n",
       "      <td>6.83</td>\n",
       "      <td>786.17</td>\n",
       "    </tr>\n",
       "    <tr>\n",
       "      <th>3</th>\n",
       "      <td>27.59</td>\n",
       "      <td>272.93</td>\n",
       "      <td>8.70</td>\n",
       "      <td>880.54</td>\n",
       "    </tr>\n",
       "    <tr>\n",
       "      <th>4</th>\n",
       "      <td>22.56</td>\n",
       "      <td>210.95</td>\n",
       "      <td>8.56</td>\n",
       "      <td>773.46</td>\n",
       "    </tr>\n",
       "  </tbody>\n",
       "</table>\n",
       "</div>"
      ],
      "text/plain": [
       "   temperature  rainfall  soil_quality  crop_yield\n",
       "0        27.49    211.85          8.58      742.27\n",
       "1        35.00    186.46          4.73      711.36\n",
       "2        30.88    229.25          6.83      786.17\n",
       "3        27.59    272.93          8.70      880.54\n",
       "4        22.56    210.95          8.56      773.46"
      ]
     },
     "execution_count": 2,
     "metadata": {},
     "output_type": "execute_result"
    }
   ],
   "source": [
    "# Load the dataset (ensure 'crop_yield_data.csv' is in the same directory)\n",
    "data = pd.read_csv('/kaggle/input/crop-yield/crop yield.csv')\n",
    "data.head()"
   ]
  },
  {
   "cell_type": "code",
   "execution_count": 3,
   "id": "7270de74",
   "metadata": {
    "execution": {
     "iopub.execute_input": "2025-01-27T01:33:28.333614Z",
     "iopub.status.busy": "2025-01-27T01:33:28.333279Z",
     "iopub.status.idle": "2025-01-27T01:33:28.340080Z",
     "shell.execute_reply": "2025-01-27T01:33:28.338951Z"
    },
    "papermill": {
     "duration": 0.012352,
     "end_time": "2025-01-27T01:33:28.341811",
     "exception": false,
     "start_time": "2025-01-27T01:33:28.329459",
     "status": "completed"
    },
    "tags": []
   },
   "outputs": [],
   "source": [
    "if data.isnull().sum().any():\n",
    "    data = data.dropna() "
   ]
  },
  {
   "cell_type": "code",
   "execution_count": 4,
   "id": "fa312e82",
   "metadata": {
    "execution": {
     "iopub.execute_input": "2025-01-27T01:33:28.349921Z",
     "iopub.status.busy": "2025-01-27T01:33:28.349594Z",
     "iopub.status.idle": "2025-01-27T01:33:28.360666Z",
     "shell.execute_reply": "2025-01-27T01:33:28.359572Z"
    },
    "papermill": {
     "duration": 0.016951,
     "end_time": "2025-01-27T01:33:28.362353",
     "exception": false,
     "start_time": "2025-01-27T01:33:28.345402",
     "status": "completed"
    },
    "tags": []
   },
   "outputs": [],
   "source": [
    "# Select features and target variable\n",
    "X = data[['temperature', 'rainfall', 'soil_quality']]\n",
    "y = data['crop_yield']"
   ]
  },
  {
   "cell_type": "code",
   "execution_count": 5,
   "id": "6a3d50cd",
   "metadata": {
    "execution": {
     "iopub.execute_input": "2025-01-27T01:33:28.369975Z",
     "iopub.status.busy": "2025-01-27T01:33:28.369658Z",
     "iopub.status.idle": "2025-01-27T01:33:28.377788Z",
     "shell.execute_reply": "2025-01-27T01:33:28.376685Z"
    },
    "papermill": {
     "duration": 0.013919,
     "end_time": "2025-01-27T01:33:28.379621",
     "exception": false,
     "start_time": "2025-01-27T01:33:28.365702",
     "status": "completed"
    },
    "tags": []
   },
   "outputs": [],
   "source": [
    "# Split the data into training and testing sets\n",
    "X_train, X_test, y_train, y_test = train_test_split(X, y, test_size=0.2, random_state=42)"
   ]
  },
  {
   "cell_type": "code",
   "execution_count": 6,
   "id": "d2eeb0ab",
   "metadata": {
    "execution": {
     "iopub.execute_input": "2025-01-27T01:33:28.387519Z",
     "iopub.status.busy": "2025-01-27T01:33:28.387127Z",
     "iopub.status.idle": "2025-01-27T01:33:28.453776Z",
     "shell.execute_reply": "2025-01-27T01:33:28.452528Z"
    },
    "papermill": {
     "duration": 0.072608,
     "end_time": "2025-01-27T01:33:28.455639",
     "exception": false,
     "start_time": "2025-01-27T01:33:28.383031",
     "status": "completed"
    },
    "tags": []
   },
   "outputs": [
    {
     "data": {
      "text/html": [
       "<style>#sk-container-id-1 {color: black;background-color: white;}#sk-container-id-1 pre{padding: 0;}#sk-container-id-1 div.sk-toggleable {background-color: white;}#sk-container-id-1 label.sk-toggleable__label {cursor: pointer;display: block;width: 100%;margin-bottom: 0;padding: 0.3em;box-sizing: border-box;text-align: center;}#sk-container-id-1 label.sk-toggleable__label-arrow:before {content: \"▸\";float: left;margin-right: 0.25em;color: #696969;}#sk-container-id-1 label.sk-toggleable__label-arrow:hover:before {color: black;}#sk-container-id-1 div.sk-estimator:hover label.sk-toggleable__label-arrow:before {color: black;}#sk-container-id-1 div.sk-toggleable__content {max-height: 0;max-width: 0;overflow: hidden;text-align: left;background-color: #f0f8ff;}#sk-container-id-1 div.sk-toggleable__content pre {margin: 0.2em;color: black;border-radius: 0.25em;background-color: #f0f8ff;}#sk-container-id-1 input.sk-toggleable__control:checked~div.sk-toggleable__content {max-height: 200px;max-width: 100%;overflow: auto;}#sk-container-id-1 input.sk-toggleable__control:checked~label.sk-toggleable__label-arrow:before {content: \"▾\";}#sk-container-id-1 div.sk-estimator input.sk-toggleable__control:checked~label.sk-toggleable__label {background-color: #d4ebff;}#sk-container-id-1 div.sk-label input.sk-toggleable__control:checked~label.sk-toggleable__label {background-color: #d4ebff;}#sk-container-id-1 input.sk-hidden--visually {border: 0;clip: rect(1px 1px 1px 1px);clip: rect(1px, 1px, 1px, 1px);height: 1px;margin: -1px;overflow: hidden;padding: 0;position: absolute;width: 1px;}#sk-container-id-1 div.sk-estimator {font-family: monospace;background-color: #f0f8ff;border: 1px dotted black;border-radius: 0.25em;box-sizing: border-box;margin-bottom: 0.5em;}#sk-container-id-1 div.sk-estimator:hover {background-color: #d4ebff;}#sk-container-id-1 div.sk-parallel-item::after {content: \"\";width: 100%;border-bottom: 1px solid gray;flex-grow: 1;}#sk-container-id-1 div.sk-label:hover label.sk-toggleable__label {background-color: #d4ebff;}#sk-container-id-1 div.sk-serial::before {content: \"\";position: absolute;border-left: 1px solid gray;box-sizing: border-box;top: 0;bottom: 0;left: 50%;z-index: 0;}#sk-container-id-1 div.sk-serial {display: flex;flex-direction: column;align-items: center;background-color: white;padding-right: 0.2em;padding-left: 0.2em;position: relative;}#sk-container-id-1 div.sk-item {position: relative;z-index: 1;}#sk-container-id-1 div.sk-parallel {display: flex;align-items: stretch;justify-content: center;background-color: white;position: relative;}#sk-container-id-1 div.sk-item::before, #sk-container-id-1 div.sk-parallel-item::before {content: \"\";position: absolute;border-left: 1px solid gray;box-sizing: border-box;top: 0;bottom: 0;left: 50%;z-index: -1;}#sk-container-id-1 div.sk-parallel-item {display: flex;flex-direction: column;z-index: 1;position: relative;background-color: white;}#sk-container-id-1 div.sk-parallel-item:first-child::after {align-self: flex-end;width: 50%;}#sk-container-id-1 div.sk-parallel-item:last-child::after {align-self: flex-start;width: 50%;}#sk-container-id-1 div.sk-parallel-item:only-child::after {width: 0;}#sk-container-id-1 div.sk-dashed-wrapped {border: 1px dashed gray;margin: 0 0.4em 0.5em 0.4em;box-sizing: border-box;padding-bottom: 0.4em;background-color: white;}#sk-container-id-1 div.sk-label label {font-family: monospace;font-weight: bold;display: inline-block;line-height: 1.2em;}#sk-container-id-1 div.sk-label-container {text-align: center;}#sk-container-id-1 div.sk-container {/* jupyter's `normalize.less` sets `[hidden] { display: none; }` but bootstrap.min.css set `[hidden] { display: none !important; }` so we also need the `!important` here to be able to override the default hidden behavior on the sphinx rendered scikit-learn.org. See: https://github.com/scikit-learn/scikit-learn/issues/21755 */display: inline-block !important;position: relative;}#sk-container-id-1 div.sk-text-repr-fallback {display: none;}</style><div id=\"sk-container-id-1\" class=\"sk-top-container\"><div class=\"sk-text-repr-fallback\"><pre>LinearRegression()</pre><b>In a Jupyter environment, please rerun this cell to show the HTML representation or trust the notebook. <br />On GitHub, the HTML representation is unable to render, please try loading this page with nbviewer.org.</b></div><div class=\"sk-container\" hidden><div class=\"sk-item\"><div class=\"sk-estimator sk-toggleable\"><input class=\"sk-toggleable__control sk-hidden--visually\" id=\"sk-estimator-id-1\" type=\"checkbox\" checked><label for=\"sk-estimator-id-1\" class=\"sk-toggleable__label sk-toggleable__label-arrow\">LinearRegression</label><div class=\"sk-toggleable__content\"><pre>LinearRegression()</pre></div></div></div></div></div>"
      ],
      "text/plain": [
       "LinearRegression()"
      ]
     },
     "execution_count": 6,
     "metadata": {},
     "output_type": "execute_result"
    }
   ],
   "source": [
    "# Create and train the model\n",
    "model = LinearRegression()\n",
    "model.fit(X_train, y_train)"
   ]
  },
  {
   "cell_type": "code",
   "execution_count": 7,
   "id": "c4645046",
   "metadata": {
    "execution": {
     "iopub.execute_input": "2025-01-27T01:33:28.464089Z",
     "iopub.status.busy": "2025-01-27T01:33:28.463632Z",
     "iopub.status.idle": "2025-01-27T01:33:28.497904Z",
     "shell.execute_reply": "2025-01-27T01:33:28.496597Z"
    },
    "papermill": {
     "duration": 0.040447,
     "end_time": "2025-01-27T01:33:28.499751",
     "exception": false,
     "start_time": "2025-01-27T01:33:28.459304",
     "status": "completed"
    },
    "tags": []
   },
   "outputs": [
    {
     "name": "stdout",
     "output_type": "stream",
     "text": [
      "Mean CV MSE: 949.1654374188056\n"
     ]
    }
   ],
   "source": [
    "# Cross-validation to evaluate the model\n",
    "cv_scores = cross_val_score(model, X_train, y_train, cv=5, scoring='neg_mean_squared_error')\n",
    "mean_cv_mse = -cv_scores.mean()\n",
    "print(f'Mean CV MSE: {mean_cv_mse}')\n"
   ]
  },
  {
   "cell_type": "code",
   "execution_count": 8,
   "id": "2f34602d",
   "metadata": {
    "execution": {
     "iopub.execute_input": "2025-01-27T01:33:28.507935Z",
     "iopub.status.busy": "2025-01-27T01:33:28.507587Z",
     "iopub.status.idle": "2025-01-27T01:33:28.513070Z",
     "shell.execute_reply": "2025-01-27T01:33:28.511963Z"
    },
    "papermill": {
     "duration": 0.011318,
     "end_time": "2025-01-27T01:33:28.514737",
     "exception": false,
     "start_time": "2025-01-27T01:33:28.503419",
     "status": "completed"
    },
    "tags": []
   },
   "outputs": [],
   "source": [
    "# Make predictions\n",
    "y_pred = model.predict(X_test)"
   ]
  },
  {
   "cell_type": "code",
   "execution_count": 9,
   "id": "b8fbd327",
   "metadata": {
    "execution": {
     "iopub.execute_input": "2025-01-27T01:33:28.522976Z",
     "iopub.status.busy": "2025-01-27T01:33:28.522627Z",
     "iopub.status.idle": "2025-01-27T01:33:28.529238Z",
     "shell.execute_reply": "2025-01-27T01:33:28.527920Z"
    },
    "papermill": {
     "duration": 0.01285,
     "end_time": "2025-01-27T01:33:28.531142",
     "exception": false,
     "start_time": "2025-01-27T01:33:28.518292",
     "status": "completed"
    },
    "tags": []
   },
   "outputs": [
    {
     "name": "stdout",
     "output_type": "stream",
     "text": [
      "Mean Squared Error on Test Data: 453.74441434549885\n"
     ]
    }
   ],
   "source": [
    "# Evaluate the model\n",
    "mse = mean_squared_error(y_test, y_pred)\n",
    "print(f'Mean Squared Error on Test Data: {mse}')"
   ]
  },
  {
   "cell_type": "code",
   "execution_count": null,
   "id": "98519b39",
   "metadata": {
    "papermill": {
     "duration": 0.003186,
     "end_time": "2025-01-27T01:33:28.538276",
     "exception": false,
     "start_time": "2025-01-27T01:33:28.535090",
     "status": "completed"
    },
    "tags": []
   },
   "outputs": [],
   "source": []
  }
 ],
 "metadata": {
  "kaggle": {
   "accelerator": "none",
   "dataSources": [
    {
     "datasetId": 6553457,
     "sourceId": 10589096,
     "sourceType": "datasetVersion"
    }
   ],
   "dockerImageVersionId": 30839,
   "isGpuEnabled": false,
   "isInternetEnabled": true,
   "language": "python",
   "sourceType": "notebook"
  },
  "kernelspec": {
   "display_name": "Python 3",
   "language": "python",
   "name": "python3"
  },
  "language_info": {
   "codemirror_mode": {
    "name": "ipython",
    "version": 3
   },
   "file_extension": ".py",
   "mimetype": "text/x-python",
   "name": "python",
   "nbconvert_exporter": "python",
   "pygments_lexer": "ipython3",
   "version": "3.10.12"
  },
  "papermill": {
   "default_parameters": {},
   "duration": 6.580609,
   "end_time": "2025-01-27T01:33:29.264587",
   "environment_variables": {},
   "exception": null,
   "input_path": "__notebook__.ipynb",
   "output_path": "__notebook__.ipynb",
   "parameters": {},
   "start_time": "2025-01-27T01:33:22.683978",
   "version": "2.6.0"
  }
 },
 "nbformat": 4,
 "nbformat_minor": 5
}
