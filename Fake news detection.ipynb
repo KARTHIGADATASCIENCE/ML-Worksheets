{
 "cells": [
  {
   "cell_type": "markdown",
   "id": "653d9e34",
   "metadata": {},
   "source": [
    "# FAKE NEWS DETECTION"
   ]
  },
  {
   "cell_type": "code",
   "execution_count": 2,
   "id": "840133f1",
   "metadata": {},
   "outputs": [],
   "source": [
    "#import needed libraries"
   ]
  },
  {
   "cell_type": "code",
   "execution_count": 3,
   "id": "19efdf08",
   "metadata": {},
   "outputs": [],
   "source": [
    "import pandas as pd\n",
    "import numpy as np\n",
    "import re\n",
    "import string\n",
    "import nltk\n",
    "from nltk.corpus import stopwords\n",
    "from sklearn.feature_extraction.text import TfidfVectorizer\n",
    "from sklearn.model_selection import train_test_split\n",
    "from sklearn.svm import SVC\n",
    "from sklearn.metrics import accuracy_score, classification_report"
   ]
  },
  {
   "cell_type": "code",
   "execution_count": 5,
   "id": "8ccf43c9",
   "metadata": {},
   "outputs": [
    {
     "name": "stderr",
     "output_type": "stream",
     "text": [
      "[nltk_data] Downloading package stopwords to\n",
      "[nltk_data]     C:\\Users\\1mscds24\\AppData\\Roaming\\nltk_data...\n",
      "[nltk_data]   Package stopwords is already up-to-date!\n"
     ]
    }
   ],
   "source": [
    "# Download stopwords\n",
    "nltk.download('stopwords')\n",
    "stop_words = set(stopwords.words('english'))\n"
   ]
  },
  {
   "cell_type": "code",
   "execution_count": 6,
   "id": "f7b72fe4",
   "metadata": {},
   "outputs": [
    {
     "name": "stdout",
     "output_type": "stream",
     "text": [
      "                                        News_Article   Label\n",
      "0  Breaking: Scientists discover a cure for COVID...       1\n",
      "1     Government confirms Mars colony plans by 2030.       1\n",
      "2  A man claims he traveled through time and met ...       0\n",
      "3  Experts warn about increasing cyber-attacks wo...       1\n",
      "4  Vaccine causes severe side effects, claims unk...       0\n"
     ]
    }
   ],
   "source": [
    "#  Step 1: Load Dataset from CSV\n",
    "df = pd.read_csv(\"FAKE NEWS .csv\")  # Replace with your actual file path\n",
    "\n",
    "# Ensure the dataset has the right columns\n",
    "print(df.head())  # Check the first few rows"
   ]
  },
  {
   "cell_type": "code",
   "execution_count": 7,
   "id": "875874ce",
   "metadata": {},
   "outputs": [
    {
     "name": "stdout",
     "output_type": "stream",
     "text": [
      "Columns in the dataset: Index(['News_Article', ' Label'], dtype='object')\n",
      "\n",
      "Missing values:\n",
      " News_Article    0\n",
      "Label           0\n",
      "dtype: int64\n"
     ]
    }
   ],
   "source": [
    "#  Step 2: Verify Column Names\n",
    "print(\"Columns in the dataset:\", df.columns)\n",
    "\n",
    "#  Step 3: Fix Column Names (if needed)\n",
    "df.columns = df.columns.str.strip()  # Remove any accidental spaces in column names\n",
    "\n",
    "# Check for missing values\n",
    "print(\"\\nMissing values:\\n\", df.isnull().sum())"
   ]
  },
  {
   "cell_type": "code",
   "execution_count": 8,
   "id": "6f39b626",
   "metadata": {},
   "outputs": [],
   "source": [
    "def preprocess_text(text):\n",
    "    if isinstance(text, str):  # Ensure text is a string\n",
    "        text = text.lower()  # Convert to lowercase\n",
    "        text = re.sub(r'\\W', ' ', text)  # Remove non-alphanumeric characters\n",
    "        text = re.sub(r'\\s+', ' ', text).strip()  # Remove extra spaces\n",
    "        text = ''.join([char for char in text if char not in string.punctuation])  # Remove punctuation\n",
    "        words = text.split()  # Tokenization\n",
    "        words = [word for word in words if word not in stop_words]  # Remove stopwords\n",
    "        return ' '.join(words)\n",
    "    else:\n",
    "        return \"\""
   ]
  },
  {
   "cell_type": "code",
   "execution_count": 9,
   "id": "54245d0c",
   "metadata": {},
   "outputs": [],
   "source": [
    "df['Cleaned_News'] = df['News_Article'].apply(preprocess_text)  # Assuming column name is 'News_Article'\n",
    "\n",
    "#  Step 5: Ensure Label Column is Numeric\n",
    "df['Label'] = df['Label'].astype(int)\n",
    "# Step 6: Convert Text Data to TF-IDF Features\n",
    "vectorizer = TfidfVectorizer(max_features=500)\n",
    "X = vectorizer.fit_transform(df['Cleaned_News']).toarray()\n",
    "y = df['Label']\n",
    "\n",
    "#  Step 6: Convert Text Data to TF-I\n",
    "vectorizer = TfidfVectorizer(max_features=500)\n",
    "X = vectorizer.fit_transform(df['Cleaned_News']).toarray()\n",
    "y = df['Label']\n"
   ]
  },
  {
   "cell_type": "code",
   "execution_count": 10,
   "id": "922d1db0",
   "metadata": {},
   "outputs": [],
   "source": [
    "X_train, X_test, y_train, y_test = train_test_split(X, y, test_size=0.2, random_state=42)\n",
    "\n",
    "#  Step 8: Train the Support Vector Machine (SVM) Model\n",
    "svm_model = SVC(kernel='linear')  # Using linear kernel\n",
    "svm_model.fit(X_train, y_train)\n",
    "\n",
    "#  Step 9: Make Predictions\n",
    "y_pred = svm_model.predict(X_test)"
   ]
  },
  {
   "cell_type": "code",
   "execution_count": 11,
   "id": "805176ff",
   "metadata": {},
   "outputs": [
    {
     "name": "stdout",
     "output_type": "stream",
     "text": [
      "Accuracy: 0.7\n",
      "Classification Report:\n",
      "               precision    recall  f1-score   support\n",
      "\n",
      "           0       0.00      0.00      0.00         6\n",
      "           1       0.70      1.00      0.82        14\n",
      "\n",
      "    accuracy                           0.70        20\n",
      "   macro avg       0.35      0.50      0.41        20\n",
      "weighted avg       0.49      0.70      0.58        20\n",
      "\n"
     ]
    },
    {
     "name": "stderr",
     "output_type": "stream",
     "text": [
      "C:\\ProgramData\\Anaconda3\\lib\\site-packages\\sklearn\\metrics\\_classification.py:1318: UndefinedMetricWarning: Precision and F-score are ill-defined and being set to 0.0 in labels with no predicted samples. Use `zero_division` parameter to control this behavior.\n",
      "  _warn_prf(average, modifier, msg_start, len(result))\n",
      "C:\\ProgramData\\Anaconda3\\lib\\site-packages\\sklearn\\metrics\\_classification.py:1318: UndefinedMetricWarning: Precision and F-score are ill-defined and being set to 0.0 in labels with no predicted samples. Use `zero_division` parameter to control this behavior.\n",
      "  _warn_prf(average, modifier, msg_start, len(result))\n",
      "C:\\ProgramData\\Anaconda3\\lib\\site-packages\\sklearn\\metrics\\_classification.py:1318: UndefinedMetricWarning: Precision and F-score are ill-defined and being set to 0.0 in labels with no predicted samples. Use `zero_division` parameter to control this behavior.\n",
      "  _warn_prf(average, modifier, msg_start, len(result))\n"
     ]
    }
   ],
   "source": [
    "#  Step 10: Evaluate the Model\n",
    "accuracy = accuracy_score(y_test, y_pred)\n",
    "print(\"Accuracy:\", accuracy)\n",
    "print(\"Classification Report:\\n\", classification_report(y_test, y_pred))"
   ]
  },
  {
   "cell_type": "code",
   "execution_count": null,
   "id": "4ac04f65",
   "metadata": {},
   "outputs": [],
   "source": []
  }
 ],
 "metadata": {
  "kernelspec": {
   "display_name": "Python 3 (ipykernel)",
   "language": "python",
   "name": "python3"
  },
  "language_info": {
   "codemirror_mode": {
    "name": "ipython",
    "version": 3
   },
   "file_extension": ".py",
   "mimetype": "text/x-python",
   "name": "python",
   "nbconvert_exporter": "python",
   "pygments_lexer": "ipython3",
   "version": "3.9.12"
  }
 },
 "nbformat": 4,
 "nbformat_minor": 5
}
