{
 "cells": [
  {
   "cell_type": "markdown",
   "id": "0ec31e54",
   "metadata": {},
   "source": [
    "# PROMOTION ELIGIBILITY PREDICTION "
   ]
  },
  {
   "cell_type": "code",
   "execution_count": 1,
   "id": "779073bc",
   "metadata": {},
   "outputs": [],
   "source": [
    "#IMPORT NEEDED LIBRARIES"
   ]
  },
  {
   "cell_type": "code",
   "execution_count": 9,
   "id": "9fb1c2f8",
   "metadata": {},
   "outputs": [],
   "source": [
    "import pandas as pd\n",
    "import numpy as np\n",
    "from sklearn.model_selection import train_test_split\n",
    "from sklearn.ensemble import RandomForestClassifier\n",
    "from sklearn.metrics import accuracy_score, classification_report\n",
    "from sklearn.preprocessing import LabelEncoder"
   ]
  },
  {
   "cell_type": "code",
   "execution_count": 10,
   "id": "2910b516",
   "metadata": {},
   "outputs": [
    {
     "data": {
      "text/html": [
       "<div>\n",
       "<style scoped>\n",
       "    .dataframe tbody tr th:only-of-type {\n",
       "        vertical-align: middle;\n",
       "    }\n",
       "\n",
       "    .dataframe tbody tr th {\n",
       "        vertical-align: top;\n",
       "    }\n",
       "\n",
       "    .dataframe thead th {\n",
       "        text-align: right;\n",
       "    }\n",
       "</style>\n",
       "<table border=\"1\" class=\"dataframe\">\n",
       "  <thead>\n",
       "    <tr style=\"text-align: right;\">\n",
       "      <th></th>\n",
       "      <th>Employee_ID</th>\n",
       "      <th>Age</th>\n",
       "      <th>Department</th>\n",
       "      <th>Job_Role</th>\n",
       "      <th>Experience_Years</th>\n",
       "      <th>Performance_Score</th>\n",
       "      <th>Training_Hours</th>\n",
       "      <th>Previous_Promotions</th>\n",
       "      <th>Salary</th>\n",
       "      <th>Eligible_for_Promotion</th>\n",
       "    </tr>\n",
       "  </thead>\n",
       "  <tbody>\n",
       "    <tr>\n",
       "      <th>0</th>\n",
       "      <td>E101</td>\n",
       "      <td>35</td>\n",
       "      <td>Sales</td>\n",
       "      <td>Sales_Manager</td>\n",
       "      <td>10</td>\n",
       "      <td>4.2</td>\n",
       "      <td>30</td>\n",
       "      <td>1</td>\n",
       "      <td>60000</td>\n",
       "      <td>1</td>\n",
       "    </tr>\n",
       "    <tr>\n",
       "      <th>1</th>\n",
       "      <td>E102</td>\n",
       "      <td>29</td>\n",
       "      <td>HR</td>\n",
       "      <td>HR_Executive</td>\n",
       "      <td>6</td>\n",
       "      <td>3.8</td>\n",
       "      <td>25</td>\n",
       "      <td>0</td>\n",
       "      <td>45000</td>\n",
       "      <td>0</td>\n",
       "    </tr>\n",
       "    <tr>\n",
       "      <th>2</th>\n",
       "      <td>E103</td>\n",
       "      <td>40</td>\n",
       "      <td>IT</td>\n",
       "      <td>Software_Engineer</td>\n",
       "      <td>15</td>\n",
       "      <td>4.7</td>\n",
       "      <td>40</td>\n",
       "      <td>2</td>\n",
       "      <td>85000</td>\n",
       "      <td>1</td>\n",
       "    </tr>\n",
       "    <tr>\n",
       "      <th>3</th>\n",
       "      <td>E104</td>\n",
       "      <td>33</td>\n",
       "      <td>Finance</td>\n",
       "      <td>Financial_Analyst</td>\n",
       "      <td>8</td>\n",
       "      <td>3.5</td>\n",
       "      <td>20</td>\n",
       "      <td>0</td>\n",
       "      <td>70000</td>\n",
       "      <td>0</td>\n",
       "    </tr>\n",
       "    <tr>\n",
       "      <th>4</th>\n",
       "      <td>E105</td>\n",
       "      <td>45</td>\n",
       "      <td>Sales</td>\n",
       "      <td>Regional_Sales_Head</td>\n",
       "      <td>18</td>\n",
       "      <td>4.9</td>\n",
       "      <td>50</td>\n",
       "      <td>3</td>\n",
       "      <td>120000</td>\n",
       "      <td>1</td>\n",
       "    </tr>\n",
       "  </tbody>\n",
       "</table>\n",
       "</div>"
      ],
      "text/plain": [
       "  Employee_ID   Age  Department              Job_Role   Experience_Years  \\\n",
       "0        E101    35       Sales         Sales_Manager                 10   \n",
       "1        E102    29          HR          HR_Executive                  6   \n",
       "2        E103    40          IT     Software_Engineer                 15   \n",
       "3        E104    33     Finance     Financial_Analyst                  8   \n",
       "4        E105    45       Sales   Regional_Sales_Head                 18   \n",
       "\n",
       "    Performance_Score   Training_Hours   Previous_Promotions   Salary  \\\n",
       "0                 4.2               30                     1    60000   \n",
       "1                 3.8               25                     0    45000   \n",
       "2                 4.7               40                     2    85000   \n",
       "3                 3.5               20                     0    70000   \n",
       "4                 4.9               50                     3   120000   \n",
       "\n",
       "    Eligible_for_Promotion  \n",
       "0                        1  \n",
       "1                        0  \n",
       "2                        1  \n",
       "3                        0  \n",
       "4                        1  "
      ]
     },
     "execution_count": 10,
     "metadata": {},
     "output_type": "execute_result"
    }
   ],
   "source": [
    "#load data\n",
    "df=pd.read_csv('promotion eligibility.csv')\n",
    "df.head()"
   ]
  },
  {
   "cell_type": "code",
   "execution_count": 16,
   "id": "1031e530",
   "metadata": {},
   "outputs": [
    {
     "name": "stdout",
     "output_type": "stream",
     "text": [
      "Updated columns: ['Employee_ID', 'Age', 'Department', 'Job_Role', 'Experience_Years', 'Performance_Score', 'Training_Hours', 'Previous_Promotions', 'Salary', 'Eligible_for_Promotion']\n"
     ]
    }
   ],
   "source": [
    "df.rename(columns=lambda x: x.strip(), inplace=True)\n",
    "print(\"Updated columns:\", df.columns.tolist())  # Check again\n"
   ]
  },
  {
   "cell_type": "code",
   "execution_count": 17,
   "id": "ba14a130",
   "metadata": {},
   "outputs": [],
   "source": [
    "# Step 2: Preprocess the Data\n",
    "# Identify categorical columns\n",
    "categorical_columns = df.select_dtypes(include=[\"object\"]).columns # Select only non-numeric columns\n",
    "# Apply Label Encoding to categorical columns\n",
    "df[categorical_columns] = df[categorical_columns].apply(LabelEncoder().fit_transform)"
   ]
  },
  {
   "cell_type": "code",
   "execution_count": 18,
   "id": "e98042ca",
   "metadata": {},
   "outputs": [],
   "source": [
    "# Handle missing values (fill with mean for numerical, mode for categorical)\n",
    "for col in df.columns:\n",
    "    if df[col].dtype == \"object\":\n",
    "        df[col].fillna(df[col].mode()[0], inplace=True)\n",
    "    else:\n",
    "        df[col].fillna(df[col].mean(), inplace=True)\n"
   ]
  },
  {
   "cell_type": "code",
   "execution_count": 20,
   "id": "3dcb3118",
   "metadata": {},
   "outputs": [],
   "source": [
    "\n",
    "X = df.drop(columns=[\"Employee_ID\", \"Eligible_for_Promotion\"])  # Features\n",
    "y = df[\"Eligible_for_Promotion\"]  # Target\n",
    "\n",
    "# Step 5: Split Data into Training and Testing Sets\n",
    "X_train, X_test, y_train, y_test = train_test_split(X, y, test_size=0.2, random_state=42)"
   ]
  },
  {
   "cell_type": "code",
   "execution_count": 21,
   "id": "38190aea",
   "metadata": {},
   "outputs": [
    {
     "name": "stdout",
     "output_type": "stream",
     "text": [
      "Model Accuracy: 1.0\n"
     ]
    }
   ],
   "source": [
    "# Train Random Forest model\n",
    "model = RandomForestClassifier(n_estimators=100, random_state=42)\n",
    "model.fit(X_train, y_train)\n",
    "\n",
    "# Predictions\n",
    "y_pred = model.predict(X_test)\n",
    "\n",
    "# Evaluate accuracy\n",
    "accuracy = accuracy_score(y_test, y_pred)\n",
    "print(\"Model Accuracy:\", accuracy)"
   ]
  },
  {
   "cell_type": "code",
   "execution_count": 22,
   "id": "0ace636f",
   "metadata": {},
   "outputs": [
    {
     "name": "stdout",
     "output_type": "stream",
     "text": [
      "Classification Report:\n",
      "               precision    recall  f1-score   support\n",
      "\n",
      "           0       1.00      1.00      1.00         2\n",
      "           1       1.00      1.00      1.00         4\n",
      "\n",
      "    accuracy                           1.00         6\n",
      "   macro avg       1.00      1.00      1.00         6\n",
      "weighted avg       1.00      1.00      1.00         6\n",
      "\n"
     ]
    }
   ],
   "source": [
    "print(\"Classification Report:\\n\", classification_report(y_test, y_pred))"
   ]
  },
  {
   "cell_type": "code",
   "execution_count": null,
   "id": "454b2228",
   "metadata": {},
   "outputs": [],
   "source": []
  }
 ],
 "metadata": {
  "kernelspec": {
   "display_name": "Python 3 (ipykernel)",
   "language": "python",
   "name": "python3"
  },
  "language_info": {
   "codemirror_mode": {
    "name": "ipython",
    "version": 3
   },
   "file_extension": ".py",
   "mimetype": "text/x-python",
   "name": "python",
   "nbconvert_exporter": "python",
   "pygments_lexer": "ipython3",
   "version": "3.9.12"
  }
 },
 "nbformat": 4,
 "nbformat_minor": 5
}
