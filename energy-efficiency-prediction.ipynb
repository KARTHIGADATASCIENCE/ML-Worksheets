{
 "cells": [
  {
   "cell_type": "code",
   "execution_count": 1,
   "id": "8802fcbe",
   "metadata": {
    "execution": {
     "iopub.execute_input": "2025-01-29T04:57:56.165419Z",
     "iopub.status.busy": "2025-01-29T04:57:56.165024Z",
     "iopub.status.idle": "2025-01-29T04:57:58.651804Z",
     "shell.execute_reply": "2025-01-29T04:57:58.650392Z"
    },
    "papermill": {
     "duration": 2.493041,
     "end_time": "2025-01-29T04:57:58.653978",
     "exception": false,
     "start_time": "2025-01-29T04:57:56.160937",
     "status": "completed"
    },
    "tags": []
   },
   "outputs": [],
   "source": [
    "import numpy as np\n",
    "import pandas as pd\n",
    "from sklearn.model_selection import train_test_split\n",
    "from sklearn.linear_model import LinearRegression\n",
    "from sklearn.metrics import mean_squared_error, r2_score"
   ]
  },
  {
   "cell_type": "code",
   "execution_count": 2,
   "id": "ce3c83e1",
   "metadata": {
    "execution": {
     "iopub.execute_input": "2025-01-29T04:57:58.660540Z",
     "iopub.status.busy": "2025-01-29T04:57:58.659995Z",
     "iopub.status.idle": "2025-01-29T04:57:58.698812Z",
     "shell.execute_reply": "2025-01-29T04:57:58.697754Z"
    },
    "papermill": {
     "duration": 0.043935,
     "end_time": "2025-01-29T04:57:58.700693",
     "exception": false,
     "start_time": "2025-01-29T04:57:58.656758",
     "status": "completed"
    },
    "tags": []
   },
   "outputs": [
    {
     "data": {
      "text/html": [
       "<div>\n",
       "<style scoped>\n",
       "    .dataframe tbody tr th:only-of-type {\n",
       "        vertical-align: middle;\n",
       "    }\n",
       "\n",
       "    .dataframe tbody tr th {\n",
       "        vertical-align: top;\n",
       "    }\n",
       "\n",
       "    .dataframe thead th {\n",
       "        text-align: right;\n",
       "    }\n",
       "</style>\n",
       "<table border=\"1\" class=\"dataframe\">\n",
       "  <thead>\n",
       "    <tr style=\"text-align: right;\">\n",
       "      <th></th>\n",
       "      <th>Temperature</th>\n",
       "      <th>Insulation_Thickness</th>\n",
       "      <th>Window_Area</th>\n",
       "      <th>Energy_Efficiency</th>\n",
       "    </tr>\n",
       "  </thead>\n",
       "  <tbody>\n",
       "    <tr>\n",
       "      <th>0</th>\n",
       "      <td>27.91</td>\n",
       "      <td>14.69</td>\n",
       "      <td>5.34</td>\n",
       "      <td>124.53</td>\n",
       "    </tr>\n",
       "    <tr>\n",
       "      <th>1</th>\n",
       "      <td>32.71</td>\n",
       "      <td>6.89</td>\n",
       "      <td>7.92</td>\n",
       "      <td>153.21</td>\n",
       "    </tr>\n",
       "    <tr>\n",
       "      <th>2</th>\n",
       "      <td>25.48</td>\n",
       "      <td>17.11</td>\n",
       "      <td>1.12</td>\n",
       "      <td>112.89</td>\n",
       "    </tr>\n",
       "    <tr>\n",
       "      <th>3</th>\n",
       "      <td>21.78</td>\n",
       "      <td>8.24</td>\n",
       "      <td>6.43</td>\n",
       "      <td>138.44</td>\n",
       "    </tr>\n",
       "    <tr>\n",
       "      <th>4</th>\n",
       "      <td>16.94</td>\n",
       "      <td>14.22</td>\n",
       "      <td>2.97</td>\n",
       "      <td>65.78</td>\n",
       "    </tr>\n",
       "  </tbody>\n",
       "</table>\n",
       "</div>"
      ],
      "text/plain": [
       "   Temperature  Insulation_Thickness  Window_Area  Energy_Efficiency\n",
       "0        27.91                 14.69         5.34             124.53\n",
       "1        32.71                  6.89         7.92             153.21\n",
       "2        25.48                 17.11         1.12             112.89\n",
       "3        21.78                  8.24         6.43             138.44\n",
       "4        16.94                 14.22         2.97              65.78"
      ]
     },
     "execution_count": 2,
     "metadata": {},
     "output_type": "execute_result"
    }
   ],
   "source": [
    "df=pd.read_csv('/kaggle/input/energy-consumption/energy efficiency.csv')\n",
    "df.head()"
   ]
  },
  {
   "cell_type": "code",
   "execution_count": 3,
   "id": "fd1321bc",
   "metadata": {
    "execution": {
     "iopub.execute_input": "2025-01-29T04:57:58.707318Z",
     "iopub.status.busy": "2025-01-29T04:57:58.706947Z",
     "iopub.status.idle": "2025-01-29T04:57:58.720396Z",
     "shell.execute_reply": "2025-01-29T04:57:58.719277Z"
    },
    "papermill": {
     "duration": 0.019101,
     "end_time": "2025-01-29T04:57:58.722580",
     "exception": false,
     "start_time": "2025-01-29T04:57:58.703479",
     "status": "completed"
    },
    "tags": []
   },
   "outputs": [],
   "source": [
    "# Features and target variable\n",
    "X = df[['Temperature', 'Insulation_Thickness', 'Window_Area']]\n",
    "y = df['Energy_Efficiency']"
   ]
  },
  {
   "cell_type": "code",
   "execution_count": 4,
   "id": "1f2220cb",
   "metadata": {
    "execution": {
     "iopub.execute_input": "2025-01-29T04:57:58.730652Z",
     "iopub.status.busy": "2025-01-29T04:57:58.730309Z",
     "iopub.status.idle": "2025-01-29T04:57:58.794713Z",
     "shell.execute_reply": "2025-01-29T04:57:58.793651Z"
    },
    "papermill": {
     "duration": 0.069751,
     "end_time": "2025-01-29T04:57:58.796490",
     "exception": false,
     "start_time": "2025-01-29T04:57:58.726739",
     "status": "completed"
    },
    "tags": []
   },
   "outputs": [
    {
     "data": {
      "text/html": [
       "<style>#sk-container-id-1 {color: black;background-color: white;}#sk-container-id-1 pre{padding: 0;}#sk-container-id-1 div.sk-toggleable {background-color: white;}#sk-container-id-1 label.sk-toggleable__label {cursor: pointer;display: block;width: 100%;margin-bottom: 0;padding: 0.3em;box-sizing: border-box;text-align: center;}#sk-container-id-1 label.sk-toggleable__label-arrow:before {content: \"▸\";float: left;margin-right: 0.25em;color: #696969;}#sk-container-id-1 label.sk-toggleable__label-arrow:hover:before {color: black;}#sk-container-id-1 div.sk-estimator:hover label.sk-toggleable__label-arrow:before {color: black;}#sk-container-id-1 div.sk-toggleable__content {max-height: 0;max-width: 0;overflow: hidden;text-align: left;background-color: #f0f8ff;}#sk-container-id-1 div.sk-toggleable__content pre {margin: 0.2em;color: black;border-radius: 0.25em;background-color: #f0f8ff;}#sk-container-id-1 input.sk-toggleable__control:checked~div.sk-toggleable__content {max-height: 200px;max-width: 100%;overflow: auto;}#sk-container-id-1 input.sk-toggleable__control:checked~label.sk-toggleable__label-arrow:before {content: \"▾\";}#sk-container-id-1 div.sk-estimator input.sk-toggleable__control:checked~label.sk-toggleable__label {background-color: #d4ebff;}#sk-container-id-1 div.sk-label input.sk-toggleable__control:checked~label.sk-toggleable__label {background-color: #d4ebff;}#sk-container-id-1 input.sk-hidden--visually {border: 0;clip: rect(1px 1px 1px 1px);clip: rect(1px, 1px, 1px, 1px);height: 1px;margin: -1px;overflow: hidden;padding: 0;position: absolute;width: 1px;}#sk-container-id-1 div.sk-estimator {font-family: monospace;background-color: #f0f8ff;border: 1px dotted black;border-radius: 0.25em;box-sizing: border-box;margin-bottom: 0.5em;}#sk-container-id-1 div.sk-estimator:hover {background-color: #d4ebff;}#sk-container-id-1 div.sk-parallel-item::after {content: \"\";width: 100%;border-bottom: 1px solid gray;flex-grow: 1;}#sk-container-id-1 div.sk-label:hover label.sk-toggleable__label {background-color: #d4ebff;}#sk-container-id-1 div.sk-serial::before {content: \"\";position: absolute;border-left: 1px solid gray;box-sizing: border-box;top: 0;bottom: 0;left: 50%;z-index: 0;}#sk-container-id-1 div.sk-serial {display: flex;flex-direction: column;align-items: center;background-color: white;padding-right: 0.2em;padding-left: 0.2em;position: relative;}#sk-container-id-1 div.sk-item {position: relative;z-index: 1;}#sk-container-id-1 div.sk-parallel {display: flex;align-items: stretch;justify-content: center;background-color: white;position: relative;}#sk-container-id-1 div.sk-item::before, #sk-container-id-1 div.sk-parallel-item::before {content: \"\";position: absolute;border-left: 1px solid gray;box-sizing: border-box;top: 0;bottom: 0;left: 50%;z-index: -1;}#sk-container-id-1 div.sk-parallel-item {display: flex;flex-direction: column;z-index: 1;position: relative;background-color: white;}#sk-container-id-1 div.sk-parallel-item:first-child::after {align-self: flex-end;width: 50%;}#sk-container-id-1 div.sk-parallel-item:last-child::after {align-self: flex-start;width: 50%;}#sk-container-id-1 div.sk-parallel-item:only-child::after {width: 0;}#sk-container-id-1 div.sk-dashed-wrapped {border: 1px dashed gray;margin: 0 0.4em 0.5em 0.4em;box-sizing: border-box;padding-bottom: 0.4em;background-color: white;}#sk-container-id-1 div.sk-label label {font-family: monospace;font-weight: bold;display: inline-block;line-height: 1.2em;}#sk-container-id-1 div.sk-label-container {text-align: center;}#sk-container-id-1 div.sk-container {/* jupyter's `normalize.less` sets `[hidden] { display: none; }` but bootstrap.min.css set `[hidden] { display: none !important; }` so we also need the `!important` here to be able to override the default hidden behavior on the sphinx rendered scikit-learn.org. See: https://github.com/scikit-learn/scikit-learn/issues/21755 */display: inline-block !important;position: relative;}#sk-container-id-1 div.sk-text-repr-fallback {display: none;}</style><div id=\"sk-container-id-1\" class=\"sk-top-container\"><div class=\"sk-text-repr-fallback\"><pre>LinearRegression()</pre><b>In a Jupyter environment, please rerun this cell to show the HTML representation or trust the notebook. <br />On GitHub, the HTML representation is unable to render, please try loading this page with nbviewer.org.</b></div><div class=\"sk-container\" hidden><div class=\"sk-item\"><div class=\"sk-estimator sk-toggleable\"><input class=\"sk-toggleable__control sk-hidden--visually\" id=\"sk-estimator-id-1\" type=\"checkbox\" checked><label for=\"sk-estimator-id-1\" class=\"sk-toggleable__label sk-toggleable__label-arrow\">LinearRegression</label><div class=\"sk-toggleable__content\"><pre>LinearRegression()</pre></div></div></div></div></div>"
      ],
      "text/plain": [
       "LinearRegression()"
      ]
     },
     "execution_count": 4,
     "metadata": {},
     "output_type": "execute_result"
    }
   ],
   "source": [
    "# Splitting the dataset into training and testing sets\n",
    "X_train, X_test, y_train, y_test = train_test_split(X, y, test_size=0.2, random_state=42)\n",
    "\n",
    "# Creating a linear regression model\n",
    "model = LinearRegression()\n",
    "\n",
    "# Training the model\n",
    "model.fit(X_train, y_train)\n"
   ]
  },
  {
   "cell_type": "code",
   "execution_count": 5,
   "id": "a33d12b0",
   "metadata": {
    "execution": {
     "iopub.execute_input": "2025-01-29T04:57:58.803291Z",
     "iopub.status.busy": "2025-01-29T04:57:58.802918Z",
     "iopub.status.idle": "2025-01-29T04:57:58.813146Z",
     "shell.execute_reply": "2025-01-29T04:57:58.812029Z"
    },
    "papermill": {
     "duration": 0.015468,
     "end_time": "2025-01-29T04:57:58.814842",
     "exception": false,
     "start_time": "2025-01-29T04:57:58.799374",
     "status": "completed"
    },
    "tags": []
   },
   "outputs": [
    {
     "name": "stdout",
     "output_type": "stream",
     "text": [
      "Mean Squared Error: 94.7982107239191\n",
      "R-squared: 0.935932968136952\n"
     ]
    }
   ],
   "source": [
    "# Making predictions\n",
    "y_pred = model.predict(X_test)\n",
    "\n",
    "# Evaluating the model\n",
    "mse = mean_squared_error(y_test, y_pred)\n",
    "r2 = r2_score(y_test, y_pred)\n",
    "\n",
    "# Displaying results\n",
    "print(\"Mean Squared Error:\", mse)\n",
    "print(\"R-squared:\", r2)"
   ]
  },
  {
   "cell_type": "code",
   "execution_count": 6,
   "id": "118c0074",
   "metadata": {
    "execution": {
     "iopub.execute_input": "2025-01-29T04:57:58.821988Z",
     "iopub.status.busy": "2025-01-29T04:57:58.821653Z",
     "iopub.status.idle": "2025-01-29T04:57:58.830734Z",
     "shell.execute_reply": "2025-01-29T04:57:58.829704Z"
    },
    "papermill": {
     "duration": 0.014483,
     "end_time": "2025-01-29T04:57:58.832338",
     "exception": false,
     "start_time": "2025-01-29T04:57:58.817855",
     "status": "completed"
    },
    "tags": []
   },
   "outputs": [
    {
     "name": "stdout",
     "output_type": "stream",
     "text": [
      "Coefficients: [6.75218988 0.91912357 0.35469801]\n",
      "Intercept: -55.858078792911016\n",
      "Predicted Energy Efficiency for new sample: 123.91139406500344\n"
     ]
    }
   ],
   "source": [
    "# Displaying model coefficients\n",
    "print(\"Coefficients:\", model.coef_)\n",
    "print(\"Intercept:\", model.intercept_)\n",
    "\n",
    "# Testing with a new sample input\n",
    "new_sample = pd.DataFrame({\n",
    "    'Temperature': [25],\n",
    "    'Insulation_Thickness': [10],\n",
    "    'Window_Area': [5]\n",
    "})\n",
    "new_prediction = model.predict(new_sample)\n",
    "print(\"Predicted Energy Efficiency for new sample:\", new_prediction[0])\n"
   ]
  },
  {
   "cell_type": "code",
   "execution_count": null,
   "id": "500d71d1",
   "metadata": {
    "papermill": {
     "duration": 0.002741,
     "end_time": "2025-01-29T04:57:58.838132",
     "exception": false,
     "start_time": "2025-01-29T04:57:58.835391",
     "status": "completed"
    },
    "tags": []
   },
   "outputs": [],
   "source": []
  }
 ],
 "metadata": {
  "kaggle": {
   "accelerator": "none",
   "dataSources": [
    {
     "datasetId": 6565636,
     "sourceId": 10606376,
     "sourceType": "datasetVersion"
    }
   ],
   "dockerImageVersionId": 30839,
   "isGpuEnabled": false,
   "isInternetEnabled": true,
   "language": "python",
   "sourceType": "notebook"
  },
  "kernelspec": {
   "display_name": "Python 3",
   "language": "python",
   "name": "python3"
  },
  "language_info": {
   "codemirror_mode": {
    "name": "ipython",
    "version": 3
   },
   "file_extension": ".py",
   "mimetype": "text/x-python",
   "name": "python",
   "nbconvert_exporter": "python",
   "pygments_lexer": "ipython3",
   "version": "3.10.12"
  },
  "papermill": {
   "default_parameters": {},
   "duration": 6.203479,
   "end_time": "2025-01-29T04:57:59.561619",
   "environment_variables": {},
   "exception": null,
   "input_path": "__notebook__.ipynb",
   "output_path": "__notebook__.ipynb",
   "parameters": {},
   "start_time": "2025-01-29T04:57:53.358140",
   "version": "2.6.0"
  }
 },
 "nbformat": 4,
 "nbformat_minor": 5
}
