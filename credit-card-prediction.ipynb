{
 "cells": [
  {
   "cell_type": "code",
   "execution_count": 1,
   "id": "9b4339f7",
   "metadata": {
    "execution": {
     "iopub.execute_input": "2025-01-24T04:28:01.488096Z",
     "iopub.status.busy": "2025-01-24T04:28:01.487654Z",
     "iopub.status.idle": "2025-01-24T04:28:04.834752Z",
     "shell.execute_reply": "2025-01-24T04:28:04.833460Z"
    },
    "papermill": {
     "duration": 3.354738,
     "end_time": "2025-01-24T04:28:04.836871",
     "exception": false,
     "start_time": "2025-01-24T04:28:01.482133",
     "status": "completed"
    },
    "tags": []
   },
   "outputs": [],
   "source": [
    "import pandas as pd\n",
    "from sklearn.model_selection import train_test_split, cross_val_score\n",
    "from sklearn.linear_model import LogisticRegression\n",
    "from sklearn.metrics import accuracy_score, precision_score, recall_score, f1_score, confusion_matrix, classification_report, roc_curve, auc\n",
    "from sklearn.preprocessing import StandardScaler\n",
    "import seaborn as sns\n",
    "import matplotlib.pyplot as plt"
   ]
  },
  {
   "cell_type": "code",
   "execution_count": 2,
   "id": "e464c5a8",
   "metadata": {
    "execution": {
     "iopub.execute_input": "2025-01-24T04:28:04.845365Z",
     "iopub.status.busy": "2025-01-24T04:28:04.844841Z",
     "iopub.status.idle": "2025-01-24T04:28:04.886199Z",
     "shell.execute_reply": "2025-01-24T04:28:04.885123Z"
    },
    "papermill": {
     "duration": 0.047468,
     "end_time": "2025-01-24T04:28:04.888059",
     "exception": false,
     "start_time": "2025-01-24T04:28:04.840591",
     "status": "completed"
    },
    "tags": []
   },
   "outputs": [
    {
     "data": {
      "text/html": [
       "<div>\n",
       "<style scoped>\n",
       "    .dataframe tbody tr th:only-of-type {\n",
       "        vertical-align: middle;\n",
       "    }\n",
       "\n",
       "    .dataframe tbody tr th {\n",
       "        vertical-align: top;\n",
       "    }\n",
       "\n",
       "    .dataframe thead th {\n",
       "        text-align: right;\n",
       "    }\n",
       "</style>\n",
       "<table border=\"1\" class=\"dataframe\">\n",
       "  <thead>\n",
       "    <tr style=\"text-align: right;\">\n",
       "      <th></th>\n",
       "      <th>Age</th>\n",
       "      <th>Income</th>\n",
       "      <th>CreditScore</th>\n",
       "      <th>DebtToIncomeRatio</th>\n",
       "      <th>Default</th>\n",
       "    </tr>\n",
       "  </thead>\n",
       "  <tbody>\n",
       "    <tr>\n",
       "      <th>0</th>\n",
       "      <td>52</td>\n",
       "      <td>50000</td>\n",
       "      <td>710</td>\n",
       "      <td>0.30</td>\n",
       "      <td>0</td>\n",
       "    </tr>\n",
       "    <tr>\n",
       "      <th>1</th>\n",
       "      <td>45</td>\n",
       "      <td>60000</td>\n",
       "      <td>690</td>\n",
       "      <td>0.20</td>\n",
       "      <td>1</td>\n",
       "    </tr>\n",
       "    <tr>\n",
       "      <th>2</th>\n",
       "      <td>50</td>\n",
       "      <td>80000</td>\n",
       "      <td>730</td>\n",
       "      <td>0.25</td>\n",
       "      <td>0</td>\n",
       "    </tr>\n",
       "    <tr>\n",
       "      <th>3</th>\n",
       "      <td>43</td>\n",
       "      <td>55000</td>\n",
       "      <td>680</td>\n",
       "      <td>0.35</td>\n",
       "      <td>1</td>\n",
       "    </tr>\n",
       "    <tr>\n",
       "      <th>4</th>\n",
       "      <td>60</td>\n",
       "      <td>70000</td>\n",
       "      <td>750</td>\n",
       "      <td>0.28</td>\n",
       "      <td>0</td>\n",
       "    </tr>\n",
       "  </tbody>\n",
       "</table>\n",
       "</div>"
      ],
      "text/plain": [
       "   Age  Income  CreditScore  DebtToIncomeRatio  Default\n",
       "0   52   50000          710               0.30        0\n",
       "1   45   60000          690               0.20        1\n",
       "2   50   80000          730               0.25        0\n",
       "3   43   55000          680               0.35        1\n",
       "4   60   70000          750               0.28        0"
      ]
     },
     "execution_count": 2,
     "metadata": {},
     "output_type": "execute_result"
    }
   ],
   "source": [
    "df=pd.read_csv('/kaggle/input/credit-card-dataset/credit card.csv')\n",
    "df.head()"
   ]
  },
  {
   "cell_type": "code",
   "execution_count": 3,
   "id": "a59bc300",
   "metadata": {
    "execution": {
     "iopub.execute_input": "2025-01-24T04:28:04.895541Z",
     "iopub.status.busy": "2025-01-24T04:28:04.895084Z",
     "iopub.status.idle": "2025-01-24T04:28:04.908547Z",
     "shell.execute_reply": "2025-01-24T04:28:04.907411Z"
    },
    "papermill": {
     "duration": 0.018968,
     "end_time": "2025-01-24T04:28:04.910257",
     "exception": false,
     "start_time": "2025-01-24T04:28:04.891289",
     "status": "completed"
    },
    "tags": []
   },
   "outputs": [],
   "source": [
    "# Features (X) and Target (y)\n",
    "X = df[['Age', 'Income', 'CreditScore', 'DebtToIncomeRatio']]\n",
    "y = df['Default']"
   ]
  },
  {
   "cell_type": "code",
   "execution_count": 4,
   "id": "6e4af831",
   "metadata": {
    "execution": {
     "iopub.execute_input": "2025-01-24T04:28:04.917879Z",
     "iopub.status.busy": "2025-01-24T04:28:04.917528Z",
     "iopub.status.idle": "2025-01-24T04:28:04.925320Z",
     "shell.execute_reply": "2025-01-24T04:28:04.924438Z"
    },
    "papermill": {
     "duration": 0.013311,
     "end_time": "2025-01-24T04:28:04.926859",
     "exception": false,
     "start_time": "2025-01-24T04:28:04.913548",
     "status": "completed"
    },
    "tags": []
   },
   "outputs": [],
   "source": [
    "# Feature Scaling\n",
    "scaler = StandardScaler()\n",
    "X_scaled = scaler.fit_transform(X)"
   ]
  },
  {
   "cell_type": "code",
   "execution_count": 5,
   "id": "3723e25f",
   "metadata": {
    "execution": {
     "iopub.execute_input": "2025-01-24T04:28:04.934269Z",
     "iopub.status.busy": "2025-01-24T04:28:04.933958Z",
     "iopub.status.idle": "2025-01-24T04:28:04.940013Z",
     "shell.execute_reply": "2025-01-24T04:28:04.938899Z"
    },
    "papermill": {
     "duration": 0.011783,
     "end_time": "2025-01-24T04:28:04.941920",
     "exception": false,
     "start_time": "2025-01-24T04:28:04.930137",
     "status": "completed"
    },
    "tags": []
   },
   "outputs": [],
   "source": [
    "# Split the data into training and testing sets\n",
    "X_train, X_test, y_train, y_test = train_test_split(X_scaled, y, test_size=0.33, random_state=42)"
   ]
  },
  {
   "cell_type": "code",
   "execution_count": 6,
   "id": "72d32268",
   "metadata": {
    "execution": {
     "iopub.execute_input": "2025-01-24T04:28:04.949821Z",
     "iopub.status.busy": "2025-01-24T04:28:04.949455Z",
     "iopub.status.idle": "2025-01-24T04:28:04.977194Z",
     "shell.execute_reply": "2025-01-24T04:28:04.976107Z"
    },
    "papermill": {
     "duration": 0.033803,
     "end_time": "2025-01-24T04:28:04.979015",
     "exception": false,
     "start_time": "2025-01-24T04:28:04.945212",
     "status": "completed"
    },
    "tags": []
   },
   "outputs": [],
   "source": [
    "# Create and train the logistic regression model\n",
    "model = LogisticRegression(max_iter=1000)\n",
    "model.fit(X_train, y_train)\n",
    "\n",
    "# Make predictions\n",
    "y_pred = model.predict(X_test)"
   ]
  },
  {
   "cell_type": "code",
   "execution_count": 7,
   "id": "09a77701",
   "metadata": {
    "execution": {
     "iopub.execute_input": "2025-01-24T04:28:04.986736Z",
     "iopub.status.busy": "2025-01-24T04:28:04.986338Z",
     "iopub.status.idle": "2025-01-24T04:28:05.001071Z",
     "shell.execute_reply": "2025-01-24T04:28:04.999762Z"
    },
    "papermill": {
     "duration": 0.020917,
     "end_time": "2025-01-24T04:28:05.003267",
     "exception": false,
     "start_time": "2025-01-24T04:28:04.982350",
     "status": "completed"
    },
    "tags": []
   },
   "outputs": [],
   "source": [
    "# Evaluate the model\n",
    "accuracy = accuracy_score(y_test, y_pred)\n",
    "precision = precision_score(y_test, y_pred, zero_division=1)\n",
    "recall = recall_score(y_test, y_pred, zero_division=1)\n",
    "f1 = f1_score(y_test, y_pred, zero_division=1)"
   ]
  },
  {
   "cell_type": "code",
   "execution_count": 8,
   "id": "7cfccafa",
   "metadata": {
    "execution": {
     "iopub.execute_input": "2025-01-24T04:28:05.011440Z",
     "iopub.status.busy": "2025-01-24T04:28:05.011026Z",
     "iopub.status.idle": "2025-01-24T04:28:05.028942Z",
     "shell.execute_reply": "2025-01-24T04:28:05.027524Z"
    },
    "papermill": {
     "duration": 0.024111,
     "end_time": "2025-01-24T04:28:05.030772",
     "exception": false,
     "start_time": "2025-01-24T04:28:05.006661",
     "status": "completed"
    },
    "tags": []
   },
   "outputs": [
    {
     "name": "stdout",
     "output_type": "stream",
     "text": [
      "Model Performance:\n",
      "Accuracy: 0.83\n",
      "Precision: 0.67\n",
      "Recall: 1.00\n",
      "F1 Score: 0.80\n",
      "\n",
      "Confusion Matrix:\n",
      "[[11  4]\n",
      " [ 0  8]]\n",
      "\n",
      "Classification Report:\n",
      "              precision    recall  f1-score   support\n",
      "\n",
      "           0       1.00      0.73      0.85        15\n",
      "           1       0.67      1.00      0.80         8\n",
      "\n",
      "    accuracy                           0.83        23\n",
      "   macro avg       0.83      0.87      0.82        23\n",
      "weighted avg       0.88      0.83      0.83        23\n",
      "\n"
     ]
    }
   ],
   "source": [
    "print(\"Model Performance:\")\n",
    "print(f\"Accuracy: {accuracy:.2f}\")\n",
    "print(f\"Precision: {precision:.2f}\")\n",
    "print(f\"Recall: {recall:.2f}\")\n",
    "print(f\"F1 Score: {f1:.2f}\")\n",
    "print(\"\\nConfusion Matrix:\")\n",
    "print(confusion_matrix(y_test, y_pred))\n",
    "print(\"\\nClassification Report:\")\n",
    "print(classification_report(y_test, y_pred, zero_division=1))\n"
   ]
  },
  {
   "cell_type": "code",
   "execution_count": 9,
   "id": "3854efa3",
   "metadata": {
    "execution": {
     "iopub.execute_input": "2025-01-24T04:28:05.038508Z",
     "iopub.status.busy": "2025-01-24T04:28:05.038100Z",
     "iopub.status.idle": "2025-01-24T04:28:05.350853Z",
     "shell.execute_reply": "2025-01-24T04:28:05.349835Z"
    },
    "papermill": {
     "duration": 0.31881,
     "end_time": "2025-01-24T04:28:05.352914",
     "exception": false,
     "start_time": "2025-01-24T04:28:05.034104",
     "status": "completed"
    },
    "tags": []
   },
   "outputs": [
    {
     "data": {
      "image/png": "[encoded data removed]",
      "text/plain": [
       "<Figure size 800x600 with 1 Axes>"
      ]
     },
     "metadata": {},
     "output_type": "display_data"
    }
   ],
   "source": [
    "# 2. ROC Curve\n",
    "fpr, tpr, thresholds = roc_curve(y_test, model.predict_proba(X_test)[:, 1])\n",
    "roc_auc = auc(fpr, tpr)\n",
    "plt.figure(figsize=(8, 6))\n",
    "plt.plot(fpr, tpr, color='darkorange', lw=2, label=f'ROC curve (area = {roc_auc:.2f})')\n",
    "plt.plot([0, 1], [0, 1], color='navy', lw=2, linestyle='--')\n",
    "plt.xlim([0.0, 1.0])\n",
    "plt.ylim([0.0, 1.05])\n",
    "plt.xlabel('False Positive Rate')\n",
    "plt.ylabel('True Positive Rate')\n",
    "plt.title('Receiver Operating Characteristic (ROC) Curve')\n",
    "plt.legend(loc='lower right')\n",
    "plt.show()"
   ]
  },
  {
   "cell_type": "code",
   "execution_count": 10,
   "id": "cd10cb4f",
   "metadata": {
    "execution": {
     "iopub.execute_input": "2025-01-24T04:28:05.364795Z",
     "iopub.status.busy": "2025-01-24T04:28:05.364450Z",
     "iopub.status.idle": "2025-01-24T04:28:05.393433Z",
     "shell.execute_reply": "2025-01-24T04:28:05.392324Z"
    },
    "papermill": {
     "duration": 0.035979,
     "end_time": "2025-01-24T04:28:05.395239",
     "exception": false,
     "start_time": "2025-01-24T04:28:05.359260",
     "status": "completed"
    },
    "tags": []
   },
   "outputs": [
    {
     "name": "stdout",
     "output_type": "stream",
     "text": [
      "Cross-validation accuracy: 0.80 ± 0.07\n"
     ]
    }
   ],
   "source": [
    "#  Cross-validation for better generalization\n",
    "cv_scores = cross_val_score(model, X_scaled, y, cv=5)  # 5-fold cross-validation\n",
    "print(f\"Cross-validation accuracy: {cv_scores.mean():.2f} ± {cv_scores.std():.2f}\")"
   ]
  }
 ],
 "metadata": {
  "kaggle": {
   "accelerator": "none",
   "dataSources": [
    {
     "datasetId": 6538296,
     "sourceId": 10566170,
     "sourceType": "datasetVersion"
    }
   ],
   "dockerImageVersionId": 30839,
   "isGpuEnabled": false,
   "isInternetEnabled": true,
   "language": "python",
   "sourceType": "notebook"
  },
  "kernelspec": {
   "display_name": "Python 3",
   "language": "python",
   "name": "python3"
  },
  "language_info": {
   "codemirror_mode": {
    "name": "ipython",
    "version": 3
   },
   "file_extension": ".py",
   "mimetype": "text/x-python",
   "name": "python",
   "nbconvert_exporter": "python",
   "pygments_lexer": "ipython3",
   "version": "3.10.12"
  },
  "papermill": {
   "default_parameters": {},
   "duration": 7.565054,
   "end_time": "2025-01-24T04:28:06.120548",
   "environment_variables": {},
   "exception": null,
   "input_path": "__notebook__.ipynb",
   "output_path": "__notebook__.ipynb",
   "parameters": {},
   "start_time": "2025-01-24T04:27:58.555494",
   "version": "2.6.0"
  }
 },
 "nbformat": 4,
 "nbformat_minor": 5
}
