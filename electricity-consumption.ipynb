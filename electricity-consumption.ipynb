{
 "cells": [
  {
   "cell_type": "code",
   "execution_count": 1,
   "id": "e7cd38c3",
   "metadata": {
    "execution": {
     "iopub.execute_input": "2025-01-24T05:34:35.773882Z",
     "iopub.status.busy": "2025-01-24T05:34:35.773346Z",
     "iopub.status.idle": "2025-01-24T05:34:38.346403Z",
     "shell.execute_reply": "2025-01-24T05:34:38.345257Z"
    },
    "papermill": {
     "duration": 2.580446,
     "end_time": "2025-01-24T05:34:38.348563",
     "exception": false,
     "start_time": "2025-01-24T05:34:35.768117",
     "status": "completed"
    },
    "tags": []
   },
   "outputs": [],
   "source": [
    "# Import necessary libraries\n",
    "import pandas as pd\n",
    "import numpy as np\n",
    "from sklearn.model_selection import train_test_split\n",
    "from sklearn.linear_model import LinearRegression\n",
    "from sklearn.metrics import mean_squared_error, r2_score\n",
    "import matplotlib.pyplot as plt"
   ]
  },
  {
   "cell_type": "code",
   "execution_count": 2,
   "id": "d824d769",
   "metadata": {
    "execution": {
     "iopub.execute_input": "2025-01-24T05:34:38.356902Z",
     "iopub.status.busy": "2025-01-24T05:34:38.356303Z",
     "iopub.status.idle": "2025-01-24T05:34:38.375189Z",
     "shell.execute_reply": "2025-01-24T05:34:38.373973Z"
    },
    "papermill": {
     "duration": 0.024836,
     "end_time": "2025-01-24T05:34:38.377181",
     "exception": false,
     "start_time": "2025-01-24T05:34:38.352345",
     "status": "completed"
    },
    "tags": []
   },
   "outputs": [],
   "source": [
    "df=pd.read_csv('/kaggle/input/electricity-dataset/electricity consumption.csv')"
   ]
  },
  {
   "cell_type": "code",
   "execution_count": 3,
   "id": "2a4348c6",
   "metadata": {
    "execution": {
     "iopub.execute_input": "2025-01-24T05:34:38.384733Z",
     "iopub.status.busy": "2025-01-24T05:34:38.384237Z",
     "iopub.status.idle": "2025-01-24T05:34:38.407876Z",
     "shell.execute_reply": "2025-01-24T05:34:38.406821Z"
    },
    "papermill": {
     "duration": 0.029532,
     "end_time": "2025-01-24T05:34:38.409816",
     "exception": false,
     "start_time": "2025-01-24T05:34:38.380284",
     "status": "completed"
    },
    "tags": []
   },
   "outputs": [
    {
     "data": {
      "text/html": [
       "<div>\n",
       "<style scoped>\n",
       "    .dataframe tbody tr th:only-of-type {\n",
       "        vertical-align: middle;\n",
       "    }\n",
       "\n",
       "    .dataframe tbody tr th {\n",
       "        vertical-align: top;\n",
       "    }\n",
       "\n",
       "    .dataframe thead th {\n",
       "        text-align: right;\n",
       "    }\n",
       "</style>\n",
       "<table border=\"1\" class=\"dataframe\">\n",
       "  <thead>\n",
       "    <tr style=\"text-align: right;\">\n",
       "      <th></th>\n",
       "      <th>hour_of_day</th>\n",
       "      <th>temperature</th>\n",
       "      <th>electricity_consumption</th>\n",
       "    </tr>\n",
       "  </thead>\n",
       "  <tbody>\n",
       "    <tr>\n",
       "      <th>0</th>\n",
       "      <td>1</td>\n",
       "      <td>25</td>\n",
       "      <td>120</td>\n",
       "    </tr>\n",
       "    <tr>\n",
       "      <th>1</th>\n",
       "      <td>2</td>\n",
       "      <td>24</td>\n",
       "      <td>115</td>\n",
       "    </tr>\n",
       "    <tr>\n",
       "      <th>2</th>\n",
       "      <td>3</td>\n",
       "      <td>23</td>\n",
       "      <td>110</td>\n",
       "    </tr>\n",
       "    <tr>\n",
       "      <th>3</th>\n",
       "      <td>4</td>\n",
       "      <td>22</td>\n",
       "      <td>105</td>\n",
       "    </tr>\n",
       "    <tr>\n",
       "      <th>4</th>\n",
       "      <td>5</td>\n",
       "      <td>21</td>\n",
       "      <td>100</td>\n",
       "    </tr>\n",
       "  </tbody>\n",
       "</table>\n",
       "</div>"
      ],
      "text/plain": [
       "   hour_of_day  temperature  electricity_consumption\n",
       "0            1           25                      120\n",
       "1            2           24                      115\n",
       "2            3           23                      110\n",
       "3            4           22                      105\n",
       "4            5           21                      100"
      ]
     },
     "execution_count": 3,
     "metadata": {},
     "output_type": "execute_result"
    }
   ],
   "source": [
    "df.head()"
   ]
  },
  {
   "cell_type": "code",
   "execution_count": 4,
   "id": "abe4d6b0",
   "metadata": {
    "execution": {
     "iopub.execute_input": "2025-01-24T05:34:38.417828Z",
     "iopub.status.busy": "2025-01-24T05:34:38.417411Z",
     "iopub.status.idle": "2025-01-24T05:34:38.429740Z",
     "shell.execute_reply": "2025-01-24T05:34:38.428578Z"
    },
    "papermill": {
     "duration": 0.018302,
     "end_time": "2025-01-24T05:34:38.431603",
     "exception": false,
     "start_time": "2025-01-24T05:34:38.413301",
     "status": "completed"
    },
    "tags": []
   },
   "outputs": [],
   "source": [
    "# Define feature variables (X) and target variable (y)\n",
    "X = df[['hour_of_day', 'temperature']]  # Features\n",
    "y = df['electricity_consumption']  # Target\n"
   ]
  },
  {
   "cell_type": "code",
   "execution_count": 5,
   "id": "a463a01f",
   "metadata": {
    "execution": {
     "iopub.execute_input": "2025-01-24T05:34:38.439101Z",
     "iopub.status.busy": "2025-01-24T05:34:38.438739Z",
     "iopub.status.idle": "2025-01-24T05:34:38.447329Z",
     "shell.execute_reply": "2025-01-24T05:34:38.446198Z"
    },
    "papermill": {
     "duration": 0.014239,
     "end_time": "2025-01-24T05:34:38.449105",
     "exception": false,
     "start_time": "2025-01-24T05:34:38.434866",
     "status": "completed"
    },
    "tags": []
   },
   "outputs": [],
   "source": [
    "# Split data into training and testing sets\n",
    "X_train, X_test, y_train, y_test = train_test_split(X, y, test_size=0.3, random_state=42)\n"
   ]
  },
  {
   "cell_type": "code",
   "execution_count": 6,
   "id": "a70ced74",
   "metadata": {
    "execution": {
     "iopub.execute_input": "2025-01-24T05:34:38.456591Z",
     "iopub.status.busy": "2025-01-24T05:34:38.456186Z",
     "iopub.status.idle": "2025-01-24T05:34:38.518949Z",
     "shell.execute_reply": "2025-01-24T05:34:38.517670Z"
    },
    "papermill": {
     "duration": 0.068546,
     "end_time": "2025-01-24T05:34:38.520953",
     "exception": false,
     "start_time": "2025-01-24T05:34:38.452407",
     "status": "completed"
    },
    "tags": []
   },
   "outputs": [
    {
     "data": {
      "text/html": [
       "<style>#sk-container-id-1 {color: black;background-color: white;}#sk-container-id-1 pre{padding: 0;}#sk-container-id-1 div.sk-toggleable {background-color: white;}#sk-container-id-1 label.sk-toggleable__label {cursor: pointer;display: block;width: 100%;margin-bottom: 0;padding: 0.3em;box-sizing: border-box;text-align: center;}#sk-container-id-1 label.sk-toggleable__label-arrow:before {content: \"▸\";float: left;margin-right: 0.25em;color: #696969;}#sk-container-id-1 label.sk-toggleable__label-arrow:hover:before {color: black;}#sk-container-id-1 div.sk-estimator:hover label.sk-toggleable__label-arrow:before {color: black;}#sk-container-id-1 div.sk-toggleable__content {max-height: 0;max-width: 0;overflow: hidden;text-align: left;background-color: #f0f8ff;}#sk-container-id-1 div.sk-toggleable__content pre {margin: 0.2em;color: black;border-radius: 0.25em;background-color: #f0f8ff;}#sk-container-id-1 input.sk-toggleable__control:checked~div.sk-toggleable__content {max-height: 200px;max-width: 100%;overflow: auto;}#sk-container-id-1 input.sk-toggleable__control:checked~label.sk-toggleable__label-arrow:before {content: \"▾\";}#sk-container-id-1 div.sk-estimator input.sk-toggleable__control:checked~label.sk-toggleable__label {background-color: #d4ebff;}#sk-container-id-1 div.sk-label input.sk-toggleable__control:checked~label.sk-toggleable__label {background-color: #d4ebff;}#sk-container-id-1 input.sk-hidden--visually {border: 0;clip: rect(1px 1px 1px 1px);clip: rect(1px, 1px, 1px, 1px);height: 1px;margin: -1px;overflow: hidden;padding: 0;position: absolute;width: 1px;}#sk-container-id-1 div.sk-estimator {font-family: monospace;background-color: #f0f8ff;border: 1px dotted black;border-radius: 0.25em;box-sizing: border-box;margin-bottom: 0.5em;}#sk-container-id-1 div.sk-estimator:hover {background-color: #d4ebff;}#sk-container-id-1 div.sk-parallel-item::after {content: \"\";width: 100%;border-bottom: 1px solid gray;flex-grow: 1;}#sk-container-id-1 div.sk-label:hover label.sk-toggleable__label {background-color: #d4ebff;}#sk-container-id-1 div.sk-serial::before {content: \"\";position: absolute;border-left: 1px solid gray;box-sizing: border-box;top: 0;bottom: 0;left: 50%;z-index: 0;}#sk-container-id-1 div.sk-serial {display: flex;flex-direction: column;align-items: center;background-color: white;padding-right: 0.2em;padding-left: 0.2em;position: relative;}#sk-container-id-1 div.sk-item {position: relative;z-index: 1;}#sk-container-id-1 div.sk-parallel {display: flex;align-items: stretch;justify-content: center;background-color: white;position: relative;}#sk-container-id-1 div.sk-item::before, #sk-container-id-1 div.sk-parallel-item::before {content: \"\";position: absolute;border-left: 1px solid gray;box-sizing: border-box;top: 0;bottom: 0;left: 50%;z-index: -1;}#sk-container-id-1 div.sk-parallel-item {display: flex;flex-direction: column;z-index: 1;position: relative;background-color: white;}#sk-container-id-1 div.sk-parallel-item:first-child::after {align-self: flex-end;width: 50%;}#sk-container-id-1 div.sk-parallel-item:last-child::after {align-self: flex-start;width: 50%;}#sk-container-id-1 div.sk-parallel-item:only-child::after {width: 0;}#sk-container-id-1 div.sk-dashed-wrapped {border: 1px dashed gray;margin: 0 0.4em 0.5em 0.4em;box-sizing: border-box;padding-bottom: 0.4em;background-color: white;}#sk-container-id-1 div.sk-label label {font-family: monospace;font-weight: bold;display: inline-block;line-height: 1.2em;}#sk-container-id-1 div.sk-label-container {text-align: center;}#sk-container-id-1 div.sk-container {/* jupyter's `normalize.less` sets `[hidden] { display: none; }` but bootstrap.min.css set `[hidden] { display: none !important; }` so we also need the `!important` here to be able to override the default hidden behavior on the sphinx rendered scikit-learn.org. See: https://github.com/scikit-learn/scikit-learn/issues/21755 */display: inline-block !important;position: relative;}#sk-container-id-1 div.sk-text-repr-fallback {display: none;}</style><div id=\"sk-container-id-1\" class=\"sk-top-container\"><div class=\"sk-text-repr-fallback\"><pre>LinearRegression()</pre><b>In a Jupyter environment, please rerun this cell to show the HTML representation or trust the notebook. <br />On GitHub, the HTML representation is unable to render, please try loading this page with nbviewer.org.</b></div><div class=\"sk-container\" hidden><div class=\"sk-item\"><div class=\"sk-estimator sk-toggleable\"><input class=\"sk-toggleable__control sk-hidden--visually\" id=\"sk-estimator-id-1\" type=\"checkbox\" checked><label for=\"sk-estimator-id-1\" class=\"sk-toggleable__label sk-toggleable__label-arrow\">LinearRegression</label><div class=\"sk-toggleable__content\"><pre>LinearRegression()</pre></div></div></div></div></div>"
      ],
      "text/plain": [
       "LinearRegression()"
      ]
     },
     "execution_count": 6,
     "metadata": {},
     "output_type": "execute_result"
    }
   ],
   "source": [
    "# Initialize the Linear Regression model\n",
    "model = LinearRegression()\n",
    "\n",
    "# Train the model\n",
    "model.fit(X_train, y_train)"
   ]
  },
  {
   "cell_type": "code",
   "execution_count": 7,
   "id": "4a153f12",
   "metadata": {
    "execution": {
     "iopub.execute_input": "2025-01-24T05:34:38.529146Z",
     "iopub.status.busy": "2025-01-24T05:34:38.528810Z",
     "iopub.status.idle": "2025-01-24T05:34:38.536090Z",
     "shell.execute_reply": "2025-01-24T05:34:38.534911Z"
    },
    "papermill": {
     "duration": 0.013404,
     "end_time": "2025-01-24T05:34:38.538027",
     "exception": false,
     "start_time": "2025-01-24T05:34:38.524623",
     "status": "completed"
    },
    "tags": []
   },
   "outputs": [],
   "source": [
    "# Make predictions on the test data\n",
    "y_pred = model.predict(X_test)\n"
   ]
  },
  {
   "cell_type": "code",
   "execution_count": 8,
   "id": "bef64c5c",
   "metadata": {
    "execution": {
     "iopub.execute_input": "2025-01-24T05:34:38.546201Z",
     "iopub.status.busy": "2025-01-24T05:34:38.545863Z",
     "iopub.status.idle": "2025-01-24T05:34:38.553709Z",
     "shell.execute_reply": "2025-01-24T05:34:38.552152Z"
    },
    "papermill": {
     "duration": 0.014118,
     "end_time": "2025-01-24T05:34:38.555593",
     "exception": false,
     "start_time": "2025-01-24T05:34:38.541475",
     "status": "completed"
    },
    "tags": []
   },
   "outputs": [
    {
     "name": "stdout",
     "output_type": "stream",
     "text": [
      "Mean Squared Error: 3.07303665522328\n",
      "R-squared: 0.9970463997734389\n"
     ]
    }
   ],
   "source": [
    "# Evaluate the model\n",
    "mse = mean_squared_error(y_test, y_pred)\n",
    "r2 = r2_score(y_test, y_pred)\n",
    "\n",
    "print(f\"Mean Squared Error: {mse}\")\n",
    "print(f\"R-squared: {r2}\")"
   ]
  },
  {
   "cell_type": "code",
   "execution_count": 9,
   "id": "acc2e381",
   "metadata": {
    "execution": {
     "iopub.execute_input": "2025-01-24T05:34:38.565977Z",
     "iopub.status.busy": "2025-01-24T05:34:38.565487Z",
     "iopub.status.idle": "2025-01-24T05:34:38.878344Z",
     "shell.execute_reply": "2025-01-24T05:34:38.877181Z"
    },
    "papermill": {
     "duration": 0.320986,
     "end_time": "2025-01-24T05:34:38.880949",
     "exception": false,
     "start_time": "2025-01-24T05:34:38.559963",
     "status": "completed"
    },
    "tags": []
   },
   "outputs": [
    {
     "data": {
      "image/png": "[encoded data removed]",
      "text/plain": [
       "<Figure size 640x480 with 1 Axes>"
      ]
     },
     "metadata": {},
     "output_type": "display_data"
    }
   ],
   "source": [
    "# Plot actual vs predicted values\n",
    "plt.scatter(y_test, y_pred)\n",
    "plt.xlabel('Actual Consumption')\n",
    "plt.ylabel('Predicted Consumption')\n",
    "plt.title('Actual vs Predicted Electricity Consumption')\n",
    "plt.show()"
   ]
  },
  {
   "cell_type": "code",
   "execution_count": null,
   "id": "e664516e",
   "metadata": {
    "papermill": {
     "duration": 0.003976,
     "end_time": "2025-01-24T05:34:38.890057",
     "exception": false,
     "start_time": "2025-01-24T05:34:38.886081",
     "status": "completed"
    },
    "tags": []
   },
   "outputs": [],
   "source": []
  }
 ],
 "metadata": {
  "kaggle": {
   "accelerator": "none",
   "dataSources": [
    {
     "datasetId": 6538526,
     "sourceId": 10566569,
     "sourceType": "datasetVersion"
    },
    {
     "datasetId": 6538563,
     "sourceId": 10566636,
     "sourceType": "datasetVersion"
    }
   ],
   "dockerImageVersionId": 30839,
   "isGpuEnabled": false,
   "isInternetEnabled": true,
   "language": "python",
   "sourceType": "notebook"
  },
  "kernelspec": {
   "display_name": "Python 3",
   "language": "python",
   "name": "python3"
  },
  "language_info": {
   "codemirror_mode": {
    "name": "ipython",
    "version": 3
   },
   "file_extension": ".py",
   "mimetype": "text/x-python",
   "name": "python",
   "nbconvert_exporter": "python",
   "pygments_lexer": "ipython3",
   "version": "3.10.12"
  },
  "papermill": {
   "default_parameters": {},
   "duration": 7.212011,
   "end_time": "2025-01-24T05:34:39.616178",
   "environment_variables": {},
   "exception": null,
   "input_path": "__notebook__.ipynb",
   "output_path": "__notebook__.ipynb",
   "parameters": {},
   "start_time": "2025-01-24T05:34:32.404167",
   "version": "2.6.0"
  }
 },
 "nbformat": 4,
 "nbformat_minor": 5
}
