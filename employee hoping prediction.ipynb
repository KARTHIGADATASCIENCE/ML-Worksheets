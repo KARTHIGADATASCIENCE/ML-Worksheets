{
 "cells": [
  {
   "cell_type": "markdown",
   "id": "77092efd",
   "metadata": {},
   "source": [
    "# EMPLOYEE HOPING PREDICTION"
   ]
  },
  {
   "cell_type": "code",
   "execution_count": 1,
   "id": "80bb4fe7",
   "metadata": {},
   "outputs": [],
   "source": [
    "#import needed libraries"
   ]
  },
  {
   "cell_type": "code",
   "execution_count": 2,
   "id": "4dfcf768",
   "metadata": {},
   "outputs": [],
   "source": [
    "import pandas as pd\n",
    "import numpy as np\n",
    "from sklearn.model_selection import train_test_split\n",
    "from sklearn.ensemble import RandomForestClassifier\n",
    "from sklearn.metrics import accuracy_score, classification_report\n",
    "from sklearn.preprocessing import LabelEncoder"
   ]
  },
  {
   "cell_type": "code",
   "execution_count": 3,
   "id": "498f195d",
   "metadata": {},
   "outputs": [],
   "source": [
    "#upload data"
   ]
  },
  {
   "cell_type": "code",
   "execution_count": 4,
   "id": "f97a7a4f",
   "metadata": {},
   "outputs": [
    {
     "data": {
      "text/html": [
       "<div>\n",
       "<style scoped>\n",
       "    .dataframe tbody tr th:only-of-type {\n",
       "        vertical-align: middle;\n",
       "    }\n",
       "\n",
       "    .dataframe tbody tr th {\n",
       "        vertical-align: top;\n",
       "    }\n",
       "\n",
       "    .dataframe thead th {\n",
       "        text-align: right;\n",
       "    }\n",
       "</style>\n",
       "<table border=\"1\" class=\"dataframe\">\n",
       "  <thead>\n",
       "    <tr style=\"text-align: right;\">\n",
       "      <th></th>\n",
       "      <th>Age</th>\n",
       "      <th>Experience</th>\n",
       "      <th>Education</th>\n",
       "      <th>Job_Role</th>\n",
       "      <th>Company_Type</th>\n",
       "      <th>Salary</th>\n",
       "      <th>Marital_Status</th>\n",
       "      <th>Previous_Job_Changes</th>\n",
       "      <th>Will_Hop</th>\n",
       "    </tr>\n",
       "  </thead>\n",
       "  <tbody>\n",
       "    <tr>\n",
       "      <th>0</th>\n",
       "      <td>28</td>\n",
       "      <td>5</td>\n",
       "      <td>Bachelor</td>\n",
       "      <td>Software Engineer</td>\n",
       "      <td>Startup</td>\n",
       "      <td>70000</td>\n",
       "      <td>Single</td>\n",
       "      <td>2</td>\n",
       "      <td>1</td>\n",
       "    </tr>\n",
       "    <tr>\n",
       "      <th>1</th>\n",
       "      <td>35</td>\n",
       "      <td>10</td>\n",
       "      <td>Master</td>\n",
       "      <td>Data Scientist</td>\n",
       "      <td>Corporate</td>\n",
       "      <td>120000</td>\n",
       "      <td>Married</td>\n",
       "      <td>1</td>\n",
       "      <td>0</td>\n",
       "    </tr>\n",
       "    <tr>\n",
       "      <th>2</th>\n",
       "      <td>42</td>\n",
       "      <td>15</td>\n",
       "      <td>PhD</td>\n",
       "      <td>Project Manager</td>\n",
       "      <td>Corporate</td>\n",
       "      <td>150000</td>\n",
       "      <td>Married</td>\n",
       "      <td>3</td>\n",
       "      <td>0</td>\n",
       "    </tr>\n",
       "    <tr>\n",
       "      <th>3</th>\n",
       "      <td>26</td>\n",
       "      <td>3</td>\n",
       "      <td>Bachelor</td>\n",
       "      <td>Software Engineer</td>\n",
       "      <td>Startup</td>\n",
       "      <td>60000</td>\n",
       "      <td>Single</td>\n",
       "      <td>1</td>\n",
       "      <td>1</td>\n",
       "    </tr>\n",
       "    <tr>\n",
       "      <th>4</th>\n",
       "      <td>30</td>\n",
       "      <td>7</td>\n",
       "      <td>Master</td>\n",
       "      <td>ML Engineer</td>\n",
       "      <td>Mid-Size</td>\n",
       "      <td>85000</td>\n",
       "      <td>Single</td>\n",
       "      <td>2</td>\n",
       "      <td>1</td>\n",
       "    </tr>\n",
       "  </tbody>\n",
       "</table>\n",
       "</div>"
      ],
      "text/plain": [
       "   Age  Experience Education           Job_Role Company_Type  Salary  \\\n",
       "0   28           5  Bachelor  Software Engineer      Startup   70000   \n",
       "1   35          10    Master     Data Scientist    Corporate  120000   \n",
       "2   42          15       PhD    Project Manager    Corporate  150000   \n",
       "3   26           3  Bachelor  Software Engineer      Startup   60000   \n",
       "4   30           7    Master        ML Engineer     Mid-Size   85000   \n",
       "\n",
       "  Marital_Status  Previous_Job_Changes  Will_Hop  \n",
       "0         Single                     2         1  \n",
       "1        Married                     1         0  \n",
       "2        Married                     3         0  \n",
       "3         Single                     1         1  \n",
       "4         Single                     2         1  "
      ]
     },
     "execution_count": 4,
     "metadata": {},
     "output_type": "execute_result"
    }
   ],
   "source": [
    "df=pd.read_csv('employee hope-data.csv')\n",
    "df.head()"
   ]
  },
  {
   "cell_type": "code",
   "execution_count": 11,
   "id": "56db225c",
   "metadata": {},
   "outputs": [],
   "source": [
    "# Step 2: Preprocess the Data\n",
    "# Identify categorical columns\n",
    "categorical_columns = df.select_dtypes(include=[\"object\"]).columns # Select only non-numeric columns\n",
    "# Apply Label Encoding to categorical columns\n",
    "df[categorical_columns] = df[categorical_columns].apply(LabelEncoder().fit_transform)"
   ]
  },
  {
   "cell_type": "code",
   "execution_count": 13,
   "id": "0a14c786",
   "metadata": {},
   "outputs": [],
   "source": [
    "# Handle missing values (fill with mean for numerical, mode for categorical)\n",
    "for col in df.columns:\n",
    "    if df[col].dtype == \"object\":\n",
    "        df[col].fillna(df[col].mode()[0], inplace=True)\n",
    "    else:\n",
    "        df[col].fillna(df[col].mean(), inplace=True)\n"
   ]
  },
  {
   "cell_type": "code",
   "execution_count": 7,
   "id": "80f0de8e",
   "metadata": {},
   "outputs": [],
   "source": [
    "# Define Features (X) and Target (y)\n",
    "X = df.drop(columns=[\"Will_Hop\"])  # All columns except target\n",
    "y = df[\"Will_Hop\"]  # Target variable (0 = Stay, 1 = Hop)\n"
   ]
  },
  {
   "cell_type": "code",
   "execution_count": 8,
   "id": "c83ebc4b",
   "metadata": {},
   "outputs": [
    {
     "data": {
      "text/plain": [
       "RandomForestClassifier(random_state=42)"
      ]
     },
     "execution_count": 8,
     "metadata": {},
     "output_type": "execute_result"
    }
   ],
   "source": [
    "# Step 3: Train-Test Split\n",
    "X_train, X_test, y_train, y_test = train_test_split(X, y, test_size=0.2, random_state=42)\n",
    "\n",
    "# Step 4: Train Random Forest Classifier\n",
    "rf_model = RandomForestClassifier(n_estimators=100, random_state=42)\n",
    "rf_model.fit(X_train, y_train)"
   ]
  },
  {
   "cell_type": "code",
   "execution_count": 9,
   "id": "586c8312",
   "metadata": {},
   "outputs": [
    {
     "name": "stdout",
     "output_type": "stream",
     "text": [
      "Accuracy: 1.0\n",
      "Classification Report:\n",
      "               precision    recall  f1-score   support\n",
      "\n",
      "           0       1.00      1.00      1.00         4\n",
      "           1       1.00      1.00      1.00        10\n",
      "\n",
      "    accuracy                           1.00        14\n",
      "   macro avg       1.00      1.00      1.00        14\n",
      "weighted avg       1.00      1.00      1.00        14\n",
      "\n"
     ]
    }
   ],
   "source": [
    "# Step 5: Predictions\n",
    "y_pred = rf_model.predict(X_test)\n",
    "\n",
    "# Step 6: Evaluate Model\n",
    "accuracy = accuracy_score(y_test, y_pred)\n",
    "print(\"Accuracy:\", accuracy)\n",
    "print(\"Classification Report:\\n\", classification_report(y_test, y_pred))"
   ]
  },
  {
   "cell_type": "code",
   "execution_count": null,
   "id": "edcd9b15",
   "metadata": {},
   "outputs": [],
   "source": []
  }
 ],
 "metadata": {
  "kernelspec": {
   "display_name": "Python 3 (ipykernel)",
   "language": "python",
   "name": "python3"
  },
  "language_info": {
   "codemirror_mode": {
    "name": "ipython",
    "version": 3
   },
   "file_extension": ".py",
   "mimetype": "text/x-python",
   "name": "python",
   "nbconvert_exporter": "python",
   "pygments_lexer": "ipython3",
   "version": "3.9.12"
  }
 },
 "nbformat": 4,
 "nbformat_minor": 5
}
