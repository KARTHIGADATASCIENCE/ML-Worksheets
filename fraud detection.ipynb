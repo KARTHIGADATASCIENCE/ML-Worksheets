{
 "cells": [
  {
   "cell_type": "markdown",
   "id": "ec2292b6",
   "metadata": {},
   "source": [
    "# FRAUD DETECTION IN BANKING"
   ]
  },
  {
   "cell_type": "code",
   "execution_count": 1,
   "id": "d427d24b",
   "metadata": {},
   "outputs": [],
   "source": [
    "#import the needed libraries"
   ]
  },
  {
   "cell_type": "code",
   "execution_count": 14,
   "id": "88f086f9",
   "metadata": {},
   "outputs": [],
   "source": [
    "import pandas as pd\n",
    "import numpy as np\n",
    "from sklearn.model_selection import train_test_split\n",
    "from sklearn.ensemble import RandomForestClassifier\n",
    "from sklearn.metrics import accuracy_score, classification_report\n"
   ]
  },
  {
   "cell_type": "code",
   "execution_count": 15,
   "id": "7bd8c382",
   "metadata": {},
   "outputs": [
    {
     "data": {
      "text/html": [
       "<div>\n",
       "<style scoped>\n",
       "    .dataframe tbody tr th:only-of-type {\n",
       "        vertical-align: middle;\n",
       "    }\n",
       "\n",
       "    .dataframe tbody tr th {\n",
       "        vertical-align: top;\n",
       "    }\n",
       "\n",
       "    .dataframe thead th {\n",
       "        text-align: right;\n",
       "    }\n",
       "</style>\n",
       "<table border=\"1\" class=\"dataframe\">\n",
       "  <thead>\n",
       "    <tr style=\"text-align: right;\">\n",
       "      <th></th>\n",
       "      <th>Transaction_ID</th>\n",
       "      <th>Amount</th>\n",
       "      <th>Transaction_Type</th>\n",
       "      <th>Account_Balance</th>\n",
       "      <th>Customer_Age</th>\n",
       "      <th>Transaction_Location</th>\n",
       "      <th>Card_Type</th>\n",
       "      <th>Is_Fraudulent</th>\n",
       "    </tr>\n",
       "  </thead>\n",
       "  <tbody>\n",
       "    <tr>\n",
       "      <th>0</th>\n",
       "      <td>T1</td>\n",
       "      <td>500</td>\n",
       "      <td>Online</td>\n",
       "      <td>10000</td>\n",
       "      <td>35</td>\n",
       "      <td>New York</td>\n",
       "      <td>Debit</td>\n",
       "      <td>0</td>\n",
       "    </tr>\n",
       "    <tr>\n",
       "      <th>1</th>\n",
       "      <td>T2</td>\n",
       "      <td>2000</td>\n",
       "      <td>POS</td>\n",
       "      <td>25000</td>\n",
       "      <td>42</td>\n",
       "      <td>California</td>\n",
       "      <td>Credit</td>\n",
       "      <td>0</td>\n",
       "    </tr>\n",
       "    <tr>\n",
       "      <th>2</th>\n",
       "      <td>T3</td>\n",
       "      <td>7500</td>\n",
       "      <td>Online</td>\n",
       "      <td>5000</td>\n",
       "      <td>29</td>\n",
       "      <td>Texas</td>\n",
       "      <td>Debit</td>\n",
       "      <td>1</td>\n",
       "    </tr>\n",
       "    <tr>\n",
       "      <th>3</th>\n",
       "      <td>T4</td>\n",
       "      <td>1200</td>\n",
       "      <td>POS</td>\n",
       "      <td>15000</td>\n",
       "      <td>37</td>\n",
       "      <td>Florida</td>\n",
       "      <td>Credit</td>\n",
       "      <td>0</td>\n",
       "    </tr>\n",
       "    <tr>\n",
       "      <th>4</th>\n",
       "      <td>T5</td>\n",
       "      <td>50</td>\n",
       "      <td>ATM</td>\n",
       "      <td>8000</td>\n",
       "      <td>25</td>\n",
       "      <td>Chicago</td>\n",
       "      <td>Debit</td>\n",
       "      <td>0</td>\n",
       "    </tr>\n",
       "  </tbody>\n",
       "</table>\n",
       "</div>"
      ],
      "text/plain": [
       "  Transaction_ID  Amount Transaction_Type  Account_Balance  Customer_Age  \\\n",
       "0             T1     500           Online            10000            35   \n",
       "1             T2    2000              POS            25000            42   \n",
       "2             T3    7500           Online             5000            29   \n",
       "3             T4    1200              POS            15000            37   \n",
       "4             T5      50              ATM             8000            25   \n",
       "\n",
       "  Transaction_Location Card_Type  Is_Fraudulent  \n",
       "0             New York     Debit              0  \n",
       "1           California    Credit              0  \n",
       "2                Texas     Debit              1  \n",
       "3              Florida    Credit              0  \n",
       "4              Chicago     Debit              0  "
      ]
     },
     "execution_count": 15,
     "metadata": {},
     "output_type": "execute_result"
    }
   ],
   "source": [
    "#load data\n",
    "df=pd.read_csv('fraud detection.csv')\n",
    "df.head()"
   ]
  },
  {
   "cell_type": "code",
   "execution_count": 16,
   "id": "32f53060",
   "metadata": {},
   "outputs": [],
   "source": [
    "# Step 2: Handle Missing Values\n",
    "df.fillna(df.mean(numeric_only=True), inplace=True)  # Fill numeric missing values with mean\n",
    "df.fillna(df.mode().iloc[0], inplace=True)  # Fill categorical missing values with mode\n",
    "\n",
    "# Step 3: Convert Categorical Columns to Numerical using One-Hot Encoding\n",
    "df = pd.get_dummies(df, drop_first=True)\n",
    "\n",
    "# Step 4: Remove Transaction_ID Columns (Fix KeyError)\n",
    "df = df.drop(columns=[col for col in df.columns if \"Transaction_ID\" in col], errors=\"ignore\")\n"
   ]
  },
  {
   "cell_type": "code",
   "execution_count": 17,
   "id": "258122f3",
   "metadata": {},
   "outputs": [],
   "source": [
    "# Step 5: Define Features and Target\n",
    "X = df.drop(columns=[\"Is_Fraudulent\"], errors=\"ignore\")  # Independent variables\n",
    "y = df[\"Is_Fraudulent\"]  # Target variable (0: Legit, 1: Fraud)\n",
    "\n",
    "# Step 6: Split Data into Train and Test Sets\n",
    "X_train, X_test, y_train, y_test = train_test_split(X, y, test_size=0.2, random_state=42)\n"
   ]
  },
  {
   "cell_type": "code",
   "execution_count": 18,
   "id": "a8ad8f59",
   "metadata": {},
   "outputs": [],
   "source": [
    "# Step 7: Train Random Forest Model\n",
    "model = RandomForestClassifier(n_estimators=100, random_state=42)\n",
    "model.fit(X_train, y_train)\n",
    "\n",
    "# Step 8: Make Predictions\n",
    "y_pred = model.predict(X_test)\n"
   ]
  },
  {
   "cell_type": "code",
   "execution_count": 19,
   "id": "a64b44b3",
   "metadata": {},
   "outputs": [
    {
     "name": "stdout",
     "output_type": "stream",
     "text": [
      "Accuracy: 1.0\n",
      "Classification Report:\n",
      "               precision    recall  f1-score   support\n",
      "\n",
      "           0       1.00      1.00      1.00        13\n",
      "           1       1.00      1.00      1.00         7\n",
      "\n",
      "    accuracy                           1.00        20\n",
      "   macro avg       1.00      1.00      1.00        20\n",
      "weighted avg       1.00      1.00      1.00        20\n",
      "\n"
     ]
    }
   ],
   "source": [
    "# Step 9: Evaluate Model Performance\n",
    "accuracy = accuracy_score(y_test, y_pred)\n",
    "print(\"Accuracy:\", accuracy)\n",
    "print(\"Classification Report:\\n\", classification_report(y_test, y_pred))\n"
   ]
  },
  {
   "cell_type": "code",
   "execution_count": null,
   "id": "f9848dc4",
   "metadata": {},
   "outputs": [],
   "source": []
  },
  {
   "cell_type": "code",
   "execution_count": null,
   "id": "2f40e79f",
   "metadata": {},
   "outputs": [],
   "source": []
  },
  {
   "cell_type": "code",
   "execution_count": null,
   "id": "a066fc43",
   "metadata": {},
   "outputs": [],
   "source": [
    "\n",
    "\n",
    "\n"
   ]
  },
  {
   "cell_type": "code",
   "execution_count": null,
   "id": "e842b37b",
   "metadata": {},
   "outputs": [],
   "source": []
  }
 ],
 "metadata": {
  "kernelspec": {
   "display_name": "Python 3 (ipykernel)",
   "language": "python",
   "name": "python3"
  },
  "language_info": {
   "codemirror_mode": {
    "name": "ipython",
    "version": 3
   },
   "file_extension": ".py",
   "mimetype": "text/x-python",
   "name": "python",
   "nbconvert_exporter": "python",
   "pygments_lexer": "ipython3",
   "version": "3.9.12"
  }
 },
 "nbformat": 4,
 "nbformat_minor": 5
}
