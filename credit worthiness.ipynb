{
 "cells": [
  {
   "cell_type": "markdown",
   "id": "af968b8b",
   "metadata": {},
   "source": [
    "# Credit Worthness assessment"
   ]
  },
  {
   "cell_type": "code",
   "execution_count": 1,
   "id": "8430710c",
   "metadata": {},
   "outputs": [],
   "source": [
    "# import needed libraries"
   ]
  },
  {
   "cell_type": "code",
   "execution_count": 2,
   "id": "d5945f60",
   "metadata": {},
   "outputs": [],
   "source": [
    "import pandas as pd\n",
    "import numpy as np\n",
    "from sklearn.model_selection import train_test_split\n",
    "from sklearn.preprocessing import StandardScaler, LabelEncoder\n",
    "from sklearn.svm import SVC\n",
    "from sklearn.metrics import accuracy_score, classification_report, confusion_matrix"
   ]
  },
  {
   "cell_type": "code",
   "execution_count": 3,
   "id": "19c6a7a0",
   "metadata": {},
   "outputs": [
    {
     "data": {
      "text/html": [
       "<div>\n",
       "<style scoped>\n",
       "    .dataframe tbody tr th:only-of-type {\n",
       "        vertical-align: middle;\n",
       "    }\n",
       "\n",
       "    .dataframe tbody tr th {\n",
       "        vertical-align: top;\n",
       "    }\n",
       "\n",
       "    .dataframe thead th {\n",
       "        text-align: right;\n",
       "    }\n",
       "</style>\n",
       "<table border=\"1\" class=\"dataframe\">\n",
       "  <thead>\n",
       "    <tr style=\"text-align: right;\">\n",
       "      <th></th>\n",
       "      <th>Applicant_ID</th>\n",
       "      <th>Age</th>\n",
       "      <th>Income</th>\n",
       "      <th>Credit_Score</th>\n",
       "      <th>Loan_Amount</th>\n",
       "      <th>Employment_Status</th>\n",
       "      <th>Marital_Status</th>\n",
       "      <th>Loan_Status</th>\n",
       "    </tr>\n",
       "  </thead>\n",
       "  <tbody>\n",
       "    <tr>\n",
       "      <th>0</th>\n",
       "      <td>1</td>\n",
       "      <td>25</td>\n",
       "      <td>3000</td>\n",
       "      <td>650</td>\n",
       "      <td>5000</td>\n",
       "      <td>Employed</td>\n",
       "      <td>Single</td>\n",
       "      <td>1</td>\n",
       "    </tr>\n",
       "    <tr>\n",
       "      <th>1</th>\n",
       "      <td>2</td>\n",
       "      <td>40</td>\n",
       "      <td>6000</td>\n",
       "      <td>700</td>\n",
       "      <td>10000</td>\n",
       "      <td>Self-Employed</td>\n",
       "      <td>Married</td>\n",
       "      <td>1</td>\n",
       "    </tr>\n",
       "    <tr>\n",
       "      <th>2</th>\n",
       "      <td>3</td>\n",
       "      <td>35</td>\n",
       "      <td>4000</td>\n",
       "      <td>580</td>\n",
       "      <td>7000</td>\n",
       "      <td>Employed</td>\n",
       "      <td>Single</td>\n",
       "      <td>0</td>\n",
       "    </tr>\n",
       "    <tr>\n",
       "      <th>3</th>\n",
       "      <td>4</td>\n",
       "      <td>29</td>\n",
       "      <td>3200</td>\n",
       "      <td>620</td>\n",
       "      <td>6000</td>\n",
       "      <td>Unemployed</td>\n",
       "      <td>Single</td>\n",
       "      <td>0</td>\n",
       "    </tr>\n",
       "    <tr>\n",
       "      <th>4</th>\n",
       "      <td>5</td>\n",
       "      <td>50</td>\n",
       "      <td>7500</td>\n",
       "      <td>720</td>\n",
       "      <td>15000</td>\n",
       "      <td>Self-Employed</td>\n",
       "      <td>Married</td>\n",
       "      <td>1</td>\n",
       "    </tr>\n",
       "  </tbody>\n",
       "</table>\n",
       "</div>"
      ],
      "text/plain": [
       "   Applicant_ID  Age  Income  Credit_Score  Loan_Amount Employment_Status  \\\n",
       "0             1   25    3000           650         5000          Employed   \n",
       "1             2   40    6000           700        10000     Self-Employed   \n",
       "2             3   35    4000           580         7000          Employed   \n",
       "3             4   29    3200           620         6000        Unemployed   \n",
       "4             5   50    7500           720        15000     Self-Employed   \n",
       "\n",
       "  Marital_Status  Loan_Status  \n",
       "0         Single            1  \n",
       "1        Married            1  \n",
       "2         Single            0  \n",
       "3         Single            0  \n",
       "4        Married            1  "
      ]
     },
     "execution_count": 3,
     "metadata": {},
     "output_type": "execute_result"
    }
   ],
   "source": [
    "# Load Dataset\n",
    "data = pd.read_csv(\"credit worthness dataset.csv\")  # Ensure you have the dataset file\n",
    "data.head()"
   ]
  },
  {
   "cell_type": "code",
   "execution_count": 4,
   "id": "4b29417b",
   "metadata": {},
   "outputs": [],
   "source": [
    "# Handle Missing Values (if any)\n",
    "data.fillna(data.mean(numeric_only=True), inplace=True)\n",
    "\n",
    "#  Encode Categorical Variables\n",
    "le_emp = LabelEncoder()\n",
    "le_marital = LabelEncoder()\n",
    "data[\"Employment_Status\"] = le_emp.fit_transform(data[\"Employment_Status\"])  # 0: Employed, 1: Self-Employed, 2: Unemployed\n",
    "data[\"Marital_Status\"] = le_marital.fit_transform(data[\"Marital_Status\"])    # 0: Single, 1: Married\n"
   ]
  },
  {
   "cell_type": "code",
   "execution_count": 5,
   "id": "27a93325",
   "metadata": {},
   "outputs": [],
   "source": [
    "#  Select Features & Target Variable\n",
    "X = data.drop(columns=[\"Loan_Status\"])  # Features\n",
    "y = data[\"Loan_Status\"]  # Target (1 = Approved, 0 = Rejected)"
   ]
  },
  {
   "cell_type": "code",
   "execution_count": 6,
   "id": "23948122",
   "metadata": {},
   "outputs": [],
   "source": [
    "#  Split Data (80% Training, 20% Testing)\n",
    "X_train, X_test, y_train, y_test = train_test_split(X, y, test_size=0.2, random_state=42)\n"
   ]
  },
  {
   "cell_type": "code",
   "execution_count": 7,
   "id": "f8b0472f",
   "metadata": {},
   "outputs": [],
   "source": [
    "#  Standardize Features (for SVM Performance)\n",
    "scaler = StandardScaler()\n",
    "X_train = scaler.fit_transform(X_train)\n",
    "X_test = scaler.transform(X_test)\n"
   ]
  },
  {
   "cell_type": "code",
   "execution_count": 8,
   "id": "d29cae7e",
   "metadata": {},
   "outputs": [],
   "source": [
    "#  Train Support Vector Machine (SVM) Model\n",
    "svm_model = SVC(kernel=\"linear\", C=1.0, random_state=42)  # Linear Kernel\n",
    "svm_model.fit(X_train, y_train)\n",
    "\n",
    "#  Make Predictions\n",
    "y_pred = svm_model.predict(X_test)\n"
   ]
  },
  {
   "cell_type": "code",
   "execution_count": 9,
   "id": "02b0eda1",
   "metadata": {},
   "outputs": [
    {
     "name": "stdout",
     "output_type": "stream",
     "text": [
      " Model Accuracy: 100.00%\n",
      "\n",
      " Classification Report:\n",
      "              precision    recall  f1-score   support\n",
      "\n",
      "           0       1.00      1.00      1.00         5\n",
      "           1       1.00      1.00      1.00        11\n",
      "\n",
      "    accuracy                           1.00        16\n",
      "   macro avg       1.00      1.00      1.00        16\n",
      "weighted avg       1.00      1.00      1.00        16\n",
      "\n",
      "\n",
      " Confusion Matrix:\n",
      "[[ 5  0]\n",
      " [ 0 11]]\n"
     ]
    }
   ],
   "source": [
    "#  Evaluate Model\n",
    "accuracy = accuracy_score(y_test, y_pred)\n",
    "print(f\" Model Accuracy: {accuracy:.2%}\")\n",
    "\n",
    "print(\"\\n Classification Report:\")\n",
    "print(classification_report(y_test, y_pred))\n",
    "\n",
    "print(\"\\n Confusion Matrix:\")\n",
    "print(confusion_matrix(y_test, y_pred))\n"
   ]
  },
  {
   "cell_type": "code",
   "execution_count": null,
   "id": "2f78a855",
   "metadata": {},
   "outputs": [],
   "source": []
  }
 ],
 "metadata": {
  "kernelspec": {
   "display_name": "Python 3 (ipykernel)",
   "language": "python",
   "name": "python3"
  },
  "language_info": {
   "codemirror_mode": {
    "name": "ipython",
    "version": 3
   },
   "file_extension": ".py",
   "mimetype": "text/x-python",
   "name": "python",
   "nbconvert_exporter": "python",
   "pygments_lexer": "ipython3",
   "version": "3.9.12"
  }
 },
 "nbformat": 4,
 "nbformat_minor": 5
}
